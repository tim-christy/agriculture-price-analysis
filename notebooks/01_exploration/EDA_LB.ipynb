{
 "cells": [
  {
   "cell_type": "code",
   "execution_count": 29,
   "metadata": {},
   "outputs": [],
   "source": [
    "import os\n",
    "import sqlite3\n",
    "import numpy as np\n",
    "import pandas as pd\n",
    "import matplotlib.pyplot as plt\n",
    "%matplotlib inline\n",
    "import seaborn as sns"
   ]
  },
  {
   "cell_type": "code",
   "execution_count": 2,
   "metadata": {},
   "outputs": [
    {
     "data": {
      "text/plain": [
       "'/Users/timchristy/Desktop/agriculture-price-analysis/notebooks/01_exploration'"
      ]
     },
     "execution_count": 2,
     "metadata": {},
     "output_type": "execute_result"
    }
   ],
   "source": [
    "os.getcwd()"
   ]
  },
  {
   "cell_type": "code",
   "execution_count": 3,
   "metadata": {},
   "outputs": [],
   "source": [
    "path_to_data = '../../../agriculture_prices.db'"
   ]
  },
  {
   "cell_type": "code",
   "execution_count": 4,
   "metadata": {},
   "outputs": [],
   "source": [
    "conn = sqlite3.connect(path_to_data)\n",
    "c = conn.cursor()"
   ]
  },
  {
   "cell_type": "code",
   "execution_count": 9,
   "metadata": {},
   "outputs": [],
   "source": [
    "produce_df = pd.DataFrame(c.execute('''SELECT * FROM agriculture_prices''').fetchall())"
   ]
  },
  {
   "cell_type": "code",
   "execution_count": 11,
   "metadata": {},
   "outputs": [],
   "source": [
    "produce_df.columns = ['Farm Price', 'Atlanta Retail', 'Chicago Retail', 'Los Angeles Retail', 'NYC Retail', 'Avg Spread', 'Commodity', 'Date']"
   ]
  },
  {
   "cell_type": "code",
   "execution_count": 13,
   "metadata": {},
   "outputs": [
    {
     "data": {
      "text/html": [
       "<div>\n",
       "<style scoped>\n",
       "    .dataframe tbody tr th:only-of-type {\n",
       "        vertical-align: middle;\n",
       "    }\n",
       "\n",
       "    .dataframe tbody tr th {\n",
       "        vertical-align: top;\n",
       "    }\n",
       "\n",
       "    .dataframe thead th {\n",
       "        text-align: right;\n",
       "    }\n",
       "</style>\n",
       "<table border=\"1\" class=\"dataframe\">\n",
       "  <thead>\n",
       "    <tr style=\"text-align: right;\">\n",
       "      <th></th>\n",
       "      <th>Farm Price</th>\n",
       "      <th>Atlanta Retail</th>\n",
       "      <th>Chicago Retail</th>\n",
       "      <th>Los Angeles Retail</th>\n",
       "      <th>NYC Retail</th>\n",
       "      <th>Avg Spread</th>\n",
       "      <th>Commodity</th>\n",
       "      <th>Date</th>\n",
       "    </tr>\n",
       "  </thead>\n",
       "  <tbody>\n",
       "    <tr>\n",
       "      <th>0</th>\n",
       "      <td>1.16</td>\n",
       "      <td>2.23</td>\n",
       "      <td>1.70</td>\n",
       "      <td>1.99</td>\n",
       "      <td>2.54</td>\n",
       "      <td>82.33%</td>\n",
       "      <td>Strawberries</td>\n",
       "      <td>2019-05-19</td>\n",
       "    </tr>\n",
       "    <tr>\n",
       "      <th>1</th>\n",
       "      <td>0.91</td>\n",
       "      <td>2.67</td>\n",
       "      <td>1.89</td>\n",
       "      <td>2.47</td>\n",
       "      <td>2.66</td>\n",
       "      <td>166.21%</td>\n",
       "      <td>Strawberries</td>\n",
       "      <td>2019-05-12</td>\n",
       "    </tr>\n",
       "    <tr>\n",
       "      <th>2</th>\n",
       "      <td>0.58</td>\n",
       "      <td>2.42</td>\n",
       "      <td>1.89</td>\n",
       "      <td>2.12</td>\n",
       "      <td>2.91</td>\n",
       "      <td>302.59%</td>\n",
       "      <td>Strawberries</td>\n",
       "      <td>2019-05-05</td>\n",
       "    </tr>\n",
       "    <tr>\n",
       "      <th>3</th>\n",
       "      <td>0.58</td>\n",
       "      <td>2.79</td>\n",
       "      <td>1.95</td>\n",
       "      <td>2.38</td>\n",
       "      <td>2.96</td>\n",
       "      <td>334.48%</td>\n",
       "      <td>Strawberries</td>\n",
       "      <td>2019-04-28</td>\n",
       "    </tr>\n",
       "    <tr>\n",
       "      <th>4</th>\n",
       "      <td>0.69</td>\n",
       "      <td>2.92</td>\n",
       "      <td>2.04</td>\n",
       "      <td>2.38</td>\n",
       "      <td>3.16</td>\n",
       "      <td>280.43%</td>\n",
       "      <td>Strawberries</td>\n",
       "      <td>2019-04-21</td>\n",
       "    </tr>\n",
       "  </tbody>\n",
       "</table>\n",
       "</div>"
      ],
      "text/plain": [
       "   Farm Price  Atlanta Retail  Chicago Retail  Los Angeles Retail  NYC Retail  \\\n",
       "0        1.16            2.23            1.70                1.99        2.54   \n",
       "1        0.91            2.67            1.89                2.47        2.66   \n",
       "2        0.58            2.42            1.89                2.12        2.91   \n",
       "3        0.58            2.79            1.95                2.38        2.96   \n",
       "4        0.69            2.92            2.04                2.38        3.16   \n",
       "\n",
       "  Avg Spread     Commodity        Date  \n",
       "0     82.33%  Strawberries  2019-05-19  \n",
       "1    166.21%  Strawberries  2019-05-12  \n",
       "2    302.59%  Strawberries  2019-05-05  \n",
       "3    334.48%  Strawberries  2019-04-28  \n",
       "4    280.43%  Strawberries  2019-04-21  "
      ]
     },
     "execution_count": 13,
     "metadata": {},
     "output_type": "execute_result"
    }
   ],
   "source": [
    "produce_df.head()"
   ]
  },
  {
   "cell_type": "code",
   "execution_count": 14,
   "metadata": {},
   "outputs": [
    {
     "data": {
      "text/html": [
       "<div>\n",
       "<style scoped>\n",
       "    .dataframe tbody tr th:only-of-type {\n",
       "        vertical-align: middle;\n",
       "    }\n",
       "\n",
       "    .dataframe tbody tr th {\n",
       "        vertical-align: top;\n",
       "    }\n",
       "\n",
       "    .dataframe thead th {\n",
       "        text-align: right;\n",
       "    }\n",
       "</style>\n",
       "<table border=\"1\" class=\"dataframe\">\n",
       "  <thead>\n",
       "    <tr style=\"text-align: right;\">\n",
       "      <th></th>\n",
       "      <th>Farm Price</th>\n",
       "      <th>Atlanta Retail</th>\n",
       "      <th>Chicago Retail</th>\n",
       "      <th>Los Angeles Retail</th>\n",
       "      <th>NYC Retail</th>\n",
       "      <th>Avg Spread</th>\n",
       "      <th>Commodity</th>\n",
       "      <th>Date</th>\n",
       "    </tr>\n",
       "  </thead>\n",
       "  <tbody>\n",
       "    <tr>\n",
       "      <th>213791</th>\n",
       "      <td>0.28</td>\n",
       "      <td>1.69</td>\n",
       "      <td>0.0</td>\n",
       "      <td>1.24</td>\n",
       "      <td>1.19</td>\n",
       "      <td>267.86%</td>\n",
       "      <td>Nectarines</td>\n",
       "      <td>2000-07-23</td>\n",
       "    </tr>\n",
       "    <tr>\n",
       "      <th>213792</th>\n",
       "      <td>0.26</td>\n",
       "      <td>1.61</td>\n",
       "      <td>0.0</td>\n",
       "      <td>1.37</td>\n",
       "      <td>1.19</td>\n",
       "      <td>300.96%</td>\n",
       "      <td>Nectarines</td>\n",
       "      <td>2000-07-16</td>\n",
       "    </tr>\n",
       "    <tr>\n",
       "      <th>213793</th>\n",
       "      <td>0.30</td>\n",
       "      <td>1.71</td>\n",
       "      <td>0.0</td>\n",
       "      <td>1.42</td>\n",
       "      <td>1.19</td>\n",
       "      <td>260.00%</td>\n",
       "      <td>Nectarines</td>\n",
       "      <td>2000-07-09</td>\n",
       "    </tr>\n",
       "    <tr>\n",
       "      <th>213794</th>\n",
       "      <td>0.33</td>\n",
       "      <td>1.96</td>\n",
       "      <td>0.0</td>\n",
       "      <td>0.92</td>\n",
       "      <td>1.04</td>\n",
       "      <td>196.97%</td>\n",
       "      <td>Nectarines</td>\n",
       "      <td>2000-07-02</td>\n",
       "    </tr>\n",
       "    <tr>\n",
       "      <th>213795</th>\n",
       "      <td>0.39</td>\n",
       "      <td>1.22</td>\n",
       "      <td>0.0</td>\n",
       "      <td>0.92</td>\n",
       "      <td>1.19</td>\n",
       "      <td>113.46%</td>\n",
       "      <td>Nectarines</td>\n",
       "      <td>2000-06-25</td>\n",
       "    </tr>\n",
       "  </tbody>\n",
       "</table>\n",
       "</div>"
      ],
      "text/plain": [
       "        Farm Price  Atlanta Retail  Chicago Retail  Los Angeles Retail  \\\n",
       "213791        0.28            1.69             0.0                1.24   \n",
       "213792        0.26            1.61             0.0                1.37   \n",
       "213793        0.30            1.71             0.0                1.42   \n",
       "213794        0.33            1.96             0.0                0.92   \n",
       "213795        0.39            1.22             0.0                0.92   \n",
       "\n",
       "        NYC Retail Avg Spread   Commodity        Date  \n",
       "213791        1.19    267.86%  Nectarines  2000-07-23  \n",
       "213792        1.19    300.96%  Nectarines  2000-07-16  \n",
       "213793        1.19    260.00%  Nectarines  2000-07-09  \n",
       "213794        1.04    196.97%  Nectarines  2000-07-02  \n",
       "213795        1.19    113.46%  Nectarines  2000-06-25  "
      ]
     },
     "execution_count": 14,
     "metadata": {},
     "output_type": "execute_result"
    }
   ],
   "source": [
    "produce_df.tail()"
   ]
  },
  {
   "cell_type": "code",
   "execution_count": 20,
   "metadata": {},
   "outputs": [],
   "source": [
    "produce_df.index = pd.to_datetime(produce_df['Date'])"
   ]
  },
  {
   "cell_type": "markdown",
   "metadata": {},
   "source": [
    "# Exploration of Prices over time. \n",
    "Will be analyzing the average price per year for each produce and maybe by month later on..."
   ]
  },
  {
   "cell_type": "code",
   "execution_count": 21,
   "metadata": {},
   "outputs": [],
   "source": [
    "strawberries_df = produce_df[produce_df['Commodity'] == 'Strawberries']"
   ]
  },
  {
   "cell_type": "code",
   "execution_count": 25,
   "metadata": {},
   "outputs": [],
   "source": [
    "strawberry_yearly_mean_df = strawberries_df.resample('Y').mean()"
   ]
  },
  {
   "cell_type": "code",
   "execution_count": 40,
   "metadata": {},
   "outputs": [
    {
     "data": {
      "text/plain": [
       "<matplotlib.legend.Legend at 0x120f176d0>"
      ]
     },
     "execution_count": 40,
     "metadata": {},
     "output_type": "execute_result"
    },
    {
     "data": {
      "image/png": "[encoded data removed]",
      "text/plain": [
       "<Figure size 864x576 with 1 Axes>"
      ]
     },
     "metadata": {
      "needs_background": "light"
     },
     "output_type": "display_data"
    }
   ],
   "source": [
    "plt.figure(figsize=(12, 8))\n",
    "plt.title('Average Annual Price for Strawberries', fontsize=15)\n",
    "plt.xlabel('Year', fontsize=15)\n",
    "plt.xticks(fontsize=15)\n",
    "plt.ylabel('Average Price per Unit (USD)', fontsize=15)\n",
    "plt.yticks(fontsize=15)\n",
    "plt.plot(strawberry_yearly_mean_df.index, strawberry_yearly_mean_df[:]);\n",
    "plt.legend(strawberry_yearly_mean_df.columns, loc='lower right', fontsize=15)"
   ]
  },
  {
   "cell_type": "markdown",
   "metadata": {},
   "source": [
    "# Strawberry Prices\n",
    "Though the retail prices seem to fluctuate a bit, it looks like the farm price increased up to about 2006 or so and then remained pretty steady onto today. I think it may be best to average the retail prices in these cities to get a feel for what they are being sold for."
   ]
  },
  {
   "cell_type": "code",
   "execution_count": 43,
   "metadata": {},
   "outputs": [],
   "source": [
    "annual_mean_price_df = produce_df.resample('Y').mean()"
   ]
  },
  {
   "cell_type": "code",
   "execution_count": 50,
   "metadata": {},
   "outputs": [
    {
     "data": {
      "text/plain": [
       "Date\n",
       "1999-12-31    1.615310\n",
       "2000-12-31    1.193692\n",
       "2001-12-31    1.540724\n",
       "2002-12-31    1.617949\n",
       "2003-12-31    1.595843\n",
       "2004-12-31    1.593514\n",
       "2005-12-31    1.634221\n",
       "2006-12-31    1.743146\n",
       "2007-12-31    1.795049\n",
       "2008-12-31    1.807465\n",
       "2009-12-31    1.780223\n",
       "2010-12-31    1.856291\n",
       "2011-12-31    2.112271\n",
       "2012-12-31    2.008143\n",
       "2013-12-31    2.132331\n",
       "2014-12-31    2.141416\n",
       "2015-12-31    2.161836\n",
       "2016-12-31    1.967741\n",
       "2017-12-31    2.049075\n",
       "2018-12-31    2.172304\n",
       "2019-12-31    2.299393\n",
       "Freq: A-DEC, dtype: float64"
      ]
     },
     "execution_count": 50,
     "metadata": {},
     "output_type": "execute_result"
    }
   ],
   "source": [
    "annual_mean_price_df[['Atlanta Retail', 'Chicago Retail', 'Los Angeles Retail', 'NYC Retail']].mean(axis=1)"
   ]
  },
  {
   "cell_type": "code",
   "execution_count": 51,
   "metadata": {},
   "outputs": [],
   "source": [
    "annual_mean_price_df['Average Major City Retail'] = annual_mean_price_df[['Atlanta Retail', 'Chicago Retail', 'Los Angeles Retail', 'NYC Retail']].mean(axis=1)"
   ]
  },
  {
   "cell_type": "code",
   "execution_count": 53,
   "metadata": {},
   "outputs": [],
   "source": [
    "annual_mean_price_df.drop(columns=['Atlanta Retail', 'Chicago Retail', 'Los Angeles Retail', 'NYC Retail'], inplace=True)"
   ]
  },
  {
   "cell_type": "code",
   "execution_count": 54,
   "metadata": {},
   "outputs": [
    {
     "data": {
      "text/html": [
       "<div>\n",
       "<style scoped>\n",
       "    .dataframe tbody tr th:only-of-type {\n",
       "        vertical-align: middle;\n",
       "    }\n",
       "\n",
       "    .dataframe tbody tr th {\n",
       "        vertical-align: top;\n",
       "    }\n",
       "\n",
       "    .dataframe thead th {\n",
       "        text-align: right;\n",
       "    }\n",
       "</style>\n",
       "<table border=\"1\" class=\"dataframe\">\n",
       "  <thead>\n",
       "    <tr style=\"text-align: right;\">\n",
       "      <th></th>\n",
       "      <th>Farm Price</th>\n",
       "      <th>Average Major City Retail</th>\n",
       "    </tr>\n",
       "    <tr>\n",
       "      <th>Date</th>\n",
       "      <th></th>\n",
       "      <th></th>\n",
       "    </tr>\n",
       "  </thead>\n",
       "  <tbody>\n",
       "    <tr>\n",
       "      <th>1999-12-31</th>\n",
       "      <td>0.685106</td>\n",
       "      <td>1.615310</td>\n",
       "    </tr>\n",
       "    <tr>\n",
       "      <th>2000-12-31</th>\n",
       "      <td>0.477988</td>\n",
       "      <td>1.193692</td>\n",
       "    </tr>\n",
       "    <tr>\n",
       "      <th>2001-12-31</th>\n",
       "      <td>0.447565</td>\n",
       "      <td>1.540724</td>\n",
       "    </tr>\n",
       "    <tr>\n",
       "      <th>2002-12-31</th>\n",
       "      <td>0.517341</td>\n",
       "      <td>1.617949</td>\n",
       "    </tr>\n",
       "    <tr>\n",
       "      <th>2003-12-31</th>\n",
       "      <td>0.496111</td>\n",
       "      <td>1.595843</td>\n",
       "    </tr>\n",
       "    <tr>\n",
       "      <th>2004-12-31</th>\n",
       "      <td>0.474955</td>\n",
       "      <td>1.593514</td>\n",
       "    </tr>\n",
       "    <tr>\n",
       "      <th>2005-12-31</th>\n",
       "      <td>0.464001</td>\n",
       "      <td>1.634221</td>\n",
       "    </tr>\n",
       "    <tr>\n",
       "      <th>2006-12-31</th>\n",
       "      <td>0.537296</td>\n",
       "      <td>1.743146</td>\n",
       "    </tr>\n",
       "    <tr>\n",
       "      <th>2007-12-31</th>\n",
       "      <td>0.566921</td>\n",
       "      <td>1.795049</td>\n",
       "    </tr>\n",
       "    <tr>\n",
       "      <th>2008-12-31</th>\n",
       "      <td>0.552856</td>\n",
       "      <td>1.807465</td>\n",
       "    </tr>\n",
       "    <tr>\n",
       "      <th>2009-12-31</th>\n",
       "      <td>0.551237</td>\n",
       "      <td>1.780223</td>\n",
       "    </tr>\n",
       "    <tr>\n",
       "      <th>2010-12-31</th>\n",
       "      <td>0.540955</td>\n",
       "      <td>1.856291</td>\n",
       "    </tr>\n",
       "    <tr>\n",
       "      <th>2011-12-31</th>\n",
       "      <td>0.620716</td>\n",
       "      <td>2.112271</td>\n",
       "    </tr>\n",
       "    <tr>\n",
       "      <th>2012-12-31</th>\n",
       "      <td>0.605311</td>\n",
       "      <td>2.008143</td>\n",
       "    </tr>\n",
       "    <tr>\n",
       "      <th>2013-12-31</th>\n",
       "      <td>0.742903</td>\n",
       "      <td>2.132331</td>\n",
       "    </tr>\n",
       "    <tr>\n",
       "      <th>2014-12-31</th>\n",
       "      <td>0.748821</td>\n",
       "      <td>2.141416</td>\n",
       "    </tr>\n",
       "    <tr>\n",
       "      <th>2015-12-31</th>\n",
       "      <td>0.842083</td>\n",
       "      <td>2.161836</td>\n",
       "    </tr>\n",
       "    <tr>\n",
       "      <th>2016-12-31</th>\n",
       "      <td>0.669685</td>\n",
       "      <td>1.967741</td>\n",
       "    </tr>\n",
       "    <tr>\n",
       "      <th>2017-12-31</th>\n",
       "      <td>0.804319</td>\n",
       "      <td>2.049075</td>\n",
       "    </tr>\n",
       "    <tr>\n",
       "      <th>2018-12-31</th>\n",
       "      <td>0.795947</td>\n",
       "      <td>2.172304</td>\n",
       "    </tr>\n",
       "    <tr>\n",
       "      <th>2019-12-31</th>\n",
       "      <td>0.985105</td>\n",
       "      <td>2.299393</td>\n",
       "    </tr>\n",
       "  </tbody>\n",
       "</table>\n",
       "</div>"
      ],
      "text/plain": [
       "            Farm Price  Average Major City Retail\n",
       "Date                                             \n",
       "1999-12-31    0.685106                   1.615310\n",
       "2000-12-31    0.477988                   1.193692\n",
       "2001-12-31    0.447565                   1.540724\n",
       "2002-12-31    0.517341                   1.617949\n",
       "2003-12-31    0.496111                   1.595843\n",
       "2004-12-31    0.474955                   1.593514\n",
       "2005-12-31    0.464001                   1.634221\n",
       "2006-12-31    0.537296                   1.743146\n",
       "2007-12-31    0.566921                   1.795049\n",
       "2008-12-31    0.552856                   1.807465\n",
       "2009-12-31    0.551237                   1.780223\n",
       "2010-12-31    0.540955                   1.856291\n",
       "2011-12-31    0.620716                   2.112271\n",
       "2012-12-31    0.605311                   2.008143\n",
       "2013-12-31    0.742903                   2.132331\n",
       "2014-12-31    0.748821                   2.141416\n",
       "2015-12-31    0.842083                   2.161836\n",
       "2016-12-31    0.669685                   1.967741\n",
       "2017-12-31    0.804319                   2.049075\n",
       "2018-12-31    0.795947                   2.172304\n",
       "2019-12-31    0.985105                   2.299393"
      ]
     },
     "execution_count": 54,
     "metadata": {},
     "output_type": "execute_result"
    }
   ],
   "source": [
    "annual_mean_price_df"
   ]
  },
  {
   "cell_type": "code",
   "execution_count": 55,
   "metadata": {},
   "outputs": [
    {
     "data": {
      "text/plain": [
       "[<matplotlib.lines.Line2D at 0x120d63dc0>,\n",
       " <matplotlib.lines.Line2D at 0x120d61af0>]"
      ]
     },
     "execution_count": 55,
     "metadata": {},
     "output_type": "execute_result"
    },
    {
     "data": {
      "image/png": "[encoded data removed]",
      "text/plain": [
       "<Figure size 432x288 with 1 Axes>"
      ]
     },
     "metadata": {
      "needs_background": "light"
     },
     "output_type": "display_data"
    }
   ],
   "source": [
    "plt.plot(annual_mean_price_df.index, annual_mean_price_df[:])"
   ]
  },
  {
   "cell_type": "code",
   "execution_count": null,
   "metadata": {},
   "outputs": [],
   "source": []
  }
 ],
 "metadata": {
  "kernelspec": {
   "display_name": "agriculture-project",
   "language": "python",
   "name": "agriculture-project"
  },
  "language_info": {
   "codemirror_mode": {
    "name": "ipython",
    "version": 3
   },
   "file_extension": ".py",
   "mimetype": "text/x-python",
   "name": "python",
   "nbconvert_exporter": "python",
   "pygments_lexer": "ipython3",
   "version": "3.8.0"
  }
 },
 "nbformat": 4,
 "nbformat_minor": 4
}
