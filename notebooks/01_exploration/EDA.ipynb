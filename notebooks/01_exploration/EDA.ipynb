{
 "cells": [
  {
   "cell_type": "code",
   "execution_count": 1,
   "metadata": {},
   "outputs": [
    {
     "name": "stderr",
     "output_type": "stream",
     "text": [
      "/Users/timchristy/.local/share/virtualenvs/agriculture-price-analysis-wczIgwxP/lib/python3.8/site-packages/pandas/compat/__init__.py:85: UserWarning: Could not import the lzma module. Your installed Python is incomplete. Attempting to use lzma compression will result in a RuntimeError.\n",
      "  warnings.warn(msg)\n",
      "/Users/timchristy/.local/share/virtualenvs/agriculture-price-analysis-wczIgwxP/lib/python3.8/site-packages/pandas/compat/__init__.py:85: UserWarning: Could not import the lzma module. Your installed Python is incomplete. Attempting to use lzma compression will result in a RuntimeError.\n",
      "  warnings.warn(msg)\n"
     ]
    }
   ],
   "source": [
    "import os\n",
    "import sqlite3\n",
    "import numpy as np\n",
    "import pandas as pd\n",
    "import matplotlib.pyplot as plt\n",
    "%matplotlib inline\n",
    "import seaborn as sns\n",
    "sns.set()"
   ]
  },
  {
   "cell_type": "code",
   "execution_count": 2,
   "metadata": {},
   "outputs": [],
   "source": [
    "path_to_data = '../../data/00_raw/agriculture_prices.db'\n",
    "conn = sqlite3.connect(path_to_data)\n",
    "c = conn.cursor()"
   ]
  },
  {
   "cell_type": "code",
   "execution_count": 3,
   "metadata": {},
   "outputs": [],
   "source": [
    "produce_df = pd.DataFrame(c.execute('''SELECT * FROM agriculture_prices''').fetchall())"
   ]
  },
  {
   "cell_type": "code",
   "execution_count": 4,
   "metadata": {},
   "outputs": [],
   "source": [
    "produce_df.columns = ['Farm Price', 'Atlanta Retail', 'Chicago Retail', 'Los Angeles Retail', 'NYC Retail', 'Avg Spread', 'Commodity', 'Date']"
   ]
  },
  {
   "cell_type": "code",
   "execution_count": 5,
   "metadata": {},
   "outputs": [
    {
     "data": {
      "text/html": [
       "<div>\n",
       "<style scoped>\n",
       "    .dataframe tbody tr th:only-of-type {\n",
       "        vertical-align: middle;\n",
       "    }\n",
       "\n",
       "    .dataframe tbody tr th {\n",
       "        vertical-align: top;\n",
       "    }\n",
       "\n",
       "    .dataframe thead th {\n",
       "        text-align: right;\n",
       "    }\n",
       "</style>\n",
       "<table border=\"1\" class=\"dataframe\">\n",
       "  <thead>\n",
       "    <tr style=\"text-align: right;\">\n",
       "      <th></th>\n",
       "      <th>Farm Price</th>\n",
       "      <th>Atlanta Retail</th>\n",
       "      <th>Chicago Retail</th>\n",
       "      <th>Los Angeles Retail</th>\n",
       "      <th>NYC Retail</th>\n",
       "      <th>Avg Spread</th>\n",
       "      <th>Commodity</th>\n",
       "      <th>Date</th>\n",
       "    </tr>\n",
       "  </thead>\n",
       "  <tbody>\n",
       "    <tr>\n",
       "      <th>0</th>\n",
       "      <td>1.16</td>\n",
       "      <td>2.23</td>\n",
       "      <td>1.70</td>\n",
       "      <td>1.99</td>\n",
       "      <td>2.54</td>\n",
       "      <td>82.33%</td>\n",
       "      <td>Strawberries</td>\n",
       "      <td>2019-05-19</td>\n",
       "    </tr>\n",
       "    <tr>\n",
       "      <th>1</th>\n",
       "      <td>0.91</td>\n",
       "      <td>2.67</td>\n",
       "      <td>1.89</td>\n",
       "      <td>2.47</td>\n",
       "      <td>2.66</td>\n",
       "      <td>166.21%</td>\n",
       "      <td>Strawberries</td>\n",
       "      <td>2019-05-12</td>\n",
       "    </tr>\n",
       "    <tr>\n",
       "      <th>2</th>\n",
       "      <td>0.58</td>\n",
       "      <td>2.42</td>\n",
       "      <td>1.89</td>\n",
       "      <td>2.12</td>\n",
       "      <td>2.91</td>\n",
       "      <td>302.59%</td>\n",
       "      <td>Strawberries</td>\n",
       "      <td>2019-05-05</td>\n",
       "    </tr>\n",
       "    <tr>\n",
       "      <th>3</th>\n",
       "      <td>0.58</td>\n",
       "      <td>2.79</td>\n",
       "      <td>1.95</td>\n",
       "      <td>2.38</td>\n",
       "      <td>2.96</td>\n",
       "      <td>334.48%</td>\n",
       "      <td>Strawberries</td>\n",
       "      <td>2019-04-28</td>\n",
       "    </tr>\n",
       "    <tr>\n",
       "      <th>4</th>\n",
       "      <td>0.69</td>\n",
       "      <td>2.92</td>\n",
       "      <td>2.04</td>\n",
       "      <td>2.38</td>\n",
       "      <td>3.16</td>\n",
       "      <td>280.43%</td>\n",
       "      <td>Strawberries</td>\n",
       "      <td>2019-04-21</td>\n",
       "    </tr>\n",
       "  </tbody>\n",
       "</table>\n",
       "</div>"
      ],
      "text/plain": [
       "   Farm Price  Atlanta Retail  Chicago Retail  Los Angeles Retail  NYC Retail  \\\n",
       "0        1.16            2.23            1.70                1.99        2.54   \n",
       "1        0.91            2.67            1.89                2.47        2.66   \n",
       "2        0.58            2.42            1.89                2.12        2.91   \n",
       "3        0.58            2.79            1.95                2.38        2.96   \n",
       "4        0.69            2.92            2.04                2.38        3.16   \n",
       "\n",
       "  Avg Spread     Commodity        Date  \n",
       "0     82.33%  Strawberries  2019-05-19  \n",
       "1    166.21%  Strawberries  2019-05-12  \n",
       "2    302.59%  Strawberries  2019-05-05  \n",
       "3    334.48%  Strawberries  2019-04-28  \n",
       "4    280.43%  Strawberries  2019-04-21  "
      ]
     },
     "execution_count": 5,
     "metadata": {},
     "output_type": "execute_result"
    }
   ],
   "source": [
    "produce_df.head()"
   ]
  },
  {
   "cell_type": "code",
   "execution_count": 6,
   "metadata": {},
   "outputs": [
    {
     "data": {
      "text/html": [
       "<div>\n",
       "<style scoped>\n",
       "    .dataframe tbody tr th:only-of-type {\n",
       "        vertical-align: middle;\n",
       "    }\n",
       "\n",
       "    .dataframe tbody tr th {\n",
       "        vertical-align: top;\n",
       "    }\n",
       "\n",
       "    .dataframe thead th {\n",
       "        text-align: right;\n",
       "    }\n",
       "</style>\n",
       "<table border=\"1\" class=\"dataframe\">\n",
       "  <thead>\n",
       "    <tr style=\"text-align: right;\">\n",
       "      <th></th>\n",
       "      <th>Farm Price</th>\n",
       "      <th>Atlanta Retail</th>\n",
       "      <th>Chicago Retail</th>\n",
       "      <th>Los Angeles Retail</th>\n",
       "      <th>NYC Retail</th>\n",
       "      <th>Avg Spread</th>\n",
       "      <th>Commodity</th>\n",
       "      <th>Date</th>\n",
       "    </tr>\n",
       "  </thead>\n",
       "  <tbody>\n",
       "    <tr>\n",
       "      <th>213791</th>\n",
       "      <td>0.28</td>\n",
       "      <td>1.69</td>\n",
       "      <td>0.0</td>\n",
       "      <td>1.24</td>\n",
       "      <td>1.19</td>\n",
       "      <td>267.86%</td>\n",
       "      <td>Nectarines</td>\n",
       "      <td>2000-07-23</td>\n",
       "    </tr>\n",
       "    <tr>\n",
       "      <th>213792</th>\n",
       "      <td>0.26</td>\n",
       "      <td>1.61</td>\n",
       "      <td>0.0</td>\n",
       "      <td>1.37</td>\n",
       "      <td>1.19</td>\n",
       "      <td>300.96%</td>\n",
       "      <td>Nectarines</td>\n",
       "      <td>2000-07-16</td>\n",
       "    </tr>\n",
       "    <tr>\n",
       "      <th>213793</th>\n",
       "      <td>0.30</td>\n",
       "      <td>1.71</td>\n",
       "      <td>0.0</td>\n",
       "      <td>1.42</td>\n",
       "      <td>1.19</td>\n",
       "      <td>260.00%</td>\n",
       "      <td>Nectarines</td>\n",
       "      <td>2000-07-09</td>\n",
       "    </tr>\n",
       "    <tr>\n",
       "      <th>213794</th>\n",
       "      <td>0.33</td>\n",
       "      <td>1.96</td>\n",
       "      <td>0.0</td>\n",
       "      <td>0.92</td>\n",
       "      <td>1.04</td>\n",
       "      <td>196.97%</td>\n",
       "      <td>Nectarines</td>\n",
       "      <td>2000-07-02</td>\n",
       "    </tr>\n",
       "    <tr>\n",
       "      <th>213795</th>\n",
       "      <td>0.39</td>\n",
       "      <td>1.22</td>\n",
       "      <td>0.0</td>\n",
       "      <td>0.92</td>\n",
       "      <td>1.19</td>\n",
       "      <td>113.46%</td>\n",
       "      <td>Nectarines</td>\n",
       "      <td>2000-06-25</td>\n",
       "    </tr>\n",
       "  </tbody>\n",
       "</table>\n",
       "</div>"
      ],
      "text/plain": [
       "        Farm Price  Atlanta Retail  Chicago Retail  Los Angeles Retail  \\\n",
       "213791        0.28            1.69             0.0                1.24   \n",
       "213792        0.26            1.61             0.0                1.37   \n",
       "213793        0.30            1.71             0.0                1.42   \n",
       "213794        0.33            1.96             0.0                0.92   \n",
       "213795        0.39            1.22             0.0                0.92   \n",
       "\n",
       "        NYC Retail Avg Spread   Commodity        Date  \n",
       "213791        1.19    267.86%  Nectarines  2000-07-23  \n",
       "213792        1.19    300.96%  Nectarines  2000-07-16  \n",
       "213793        1.19    260.00%  Nectarines  2000-07-09  \n",
       "213794        1.04    196.97%  Nectarines  2000-07-02  \n",
       "213795        1.19    113.46%  Nectarines  2000-06-25  "
      ]
     },
     "execution_count": 6,
     "metadata": {},
     "output_type": "execute_result"
    }
   ],
   "source": [
    "produce_df.tail()"
   ]
  },
  {
   "cell_type": "code",
   "execution_count": 7,
   "metadata": {},
   "outputs": [],
   "source": [
    "produce_df.index = pd.to_datetime(produce_df['Date'])"
   ]
  },
  {
   "cell_type": "code",
   "execution_count": 8,
   "metadata": {},
   "outputs": [],
   "source": [
    "conn.close()"
   ]
  },
  {
   "cell_type": "code",
   "execution_count": null,
   "metadata": {},
   "outputs": [],
   "source": []
  },
  {
   "cell_type": "markdown",
   "metadata": {},
   "source": [
    "# Cleaning Data\n",
    "Want to update all prices to reflect 2019 dollars (adjust for inflation), and will be taking an average price for all retail prices. A dataframe with mean annual farm prices, mean annual average retail, farm prices standard deviation, average retail standard deviation, and year as an index will be created.\n",
    "\n",
    "Since this needs to be done by commodity, I am also going to make a dictionary that holds data frames by commodity, produce_dict. So for example, typing ``produce_dict['Strawberries']`` will return a dataframe concerning only strawberries."
   ]
  },
  {
   "cell_type": "code",
   "execution_count": 14,
   "metadata": {},
   "outputs": [
    {
     "data": {
      "text/plain": [
       "['Strawberries',\n",
       " 'Romaine Lettuce',\n",
       " 'Red Leaf Lettuce',\n",
       " 'Potatoes',\n",
       " 'Oranges',\n",
       " 'Iceberg Lettuce',\n",
       " 'Green Leaf Lettuce',\n",
       " 'Celery',\n",
       " 'Cauliflower',\n",
       " 'Carrots',\n",
       " 'Cantaloupe',\n",
       " 'Broccoli Crowns',\n",
       " 'Avocados',\n",
       " 'Broccoli Bunches',\n",
       " 'Asparagus',\n",
       " 'Flame Grapes',\n",
       " 'Thompson Grapes',\n",
       " 'Honeydews',\n",
       " 'Tomatoes',\n",
       " 'Plums',\n",
       " 'Peaches',\n",
       " 'Nectarines']"
      ]
     },
     "execution_count": 14,
     "metadata": {},
     "output_type": "execute_result"
    }
   ],
   "source": [
    "produce_list = list(produce_df['Commodity'].unique())\n",
    "produce_list"
   ]
  },
  {
   "cell_type": "code",
   "execution_count": 15,
   "metadata": {},
   "outputs": [],
   "source": [
    "produce_dict = dict()\n",
    "for produce in produce_list:\n",
    "    produce_dict.setdefault(produce, produce_df[produce_df['Commodity'] == produce])"
   ]
  },
  {
   "cell_type": "markdown",
   "metadata": {},
   "source": [
    "# Creating Average Retail Prices \n",
    "Averaging LA, NYC, etc. retail prices into one. Also making a standard deviation column for this."
   ]
  },
  {
   "cell_type": "code",
   "execution_count": 31,
   "metadata": {},
   "outputs": [
    {
     "data": {
      "text/html": [
       "<div>\n",
       "<style scoped>\n",
       "    .dataframe tbody tr th:only-of-type {\n",
       "        vertical-align: middle;\n",
       "    }\n",
       "\n",
       "    .dataframe tbody tr th {\n",
       "        vertical-align: top;\n",
       "    }\n",
       "\n",
       "    .dataframe thead th {\n",
       "        text-align: right;\n",
       "    }\n",
       "</style>\n",
       "<table border=\"1\" class=\"dataframe\">\n",
       "  <thead>\n",
       "    <tr style=\"text-align: right;\">\n",
       "      <th></th>\n",
       "      <th>Farm Price</th>\n",
       "      <th>Atlanta Retail</th>\n",
       "      <th>Chicago Retail</th>\n",
       "      <th>Los Angeles Retail</th>\n",
       "      <th>NYC Retail</th>\n",
       "      <th>Avg Spread</th>\n",
       "      <th>Commodity</th>\n",
       "      <th>Date</th>\n",
       "    </tr>\n",
       "    <tr>\n",
       "      <th>Date</th>\n",
       "      <th></th>\n",
       "      <th></th>\n",
       "      <th></th>\n",
       "      <th></th>\n",
       "      <th></th>\n",
       "      <th></th>\n",
       "      <th></th>\n",
       "      <th></th>\n",
       "    </tr>\n",
       "  </thead>\n",
       "  <tbody>\n",
       "    <tr>\n",
       "      <th>2019-05-19</th>\n",
       "      <td>1.16</td>\n",
       "      <td>2.23</td>\n",
       "      <td>1.70</td>\n",
       "      <td>1.99</td>\n",
       "      <td>2.54</td>\n",
       "      <td>82.33%</td>\n",
       "      <td>Strawberries</td>\n",
       "      <td>2019-05-19</td>\n",
       "    </tr>\n",
       "    <tr>\n",
       "      <th>2019-05-12</th>\n",
       "      <td>0.91</td>\n",
       "      <td>2.67</td>\n",
       "      <td>1.89</td>\n",
       "      <td>2.47</td>\n",
       "      <td>2.66</td>\n",
       "      <td>166.21%</td>\n",
       "      <td>Strawberries</td>\n",
       "      <td>2019-05-12</td>\n",
       "    </tr>\n",
       "    <tr>\n",
       "      <th>2019-05-05</th>\n",
       "      <td>0.58</td>\n",
       "      <td>2.42</td>\n",
       "      <td>1.89</td>\n",
       "      <td>2.12</td>\n",
       "      <td>2.91</td>\n",
       "      <td>302.59%</td>\n",
       "      <td>Strawberries</td>\n",
       "      <td>2019-05-05</td>\n",
       "    </tr>\n",
       "    <tr>\n",
       "      <th>2019-04-28</th>\n",
       "      <td>0.58</td>\n",
       "      <td>2.79</td>\n",
       "      <td>1.95</td>\n",
       "      <td>2.38</td>\n",
       "      <td>2.96</td>\n",
       "      <td>334.48%</td>\n",
       "      <td>Strawberries</td>\n",
       "      <td>2019-04-28</td>\n",
       "    </tr>\n",
       "    <tr>\n",
       "      <th>2019-04-21</th>\n",
       "      <td>0.69</td>\n",
       "      <td>2.92</td>\n",
       "      <td>2.04</td>\n",
       "      <td>2.38</td>\n",
       "      <td>3.16</td>\n",
       "      <td>280.43%</td>\n",
       "      <td>Strawberries</td>\n",
       "      <td>2019-04-21</td>\n",
       "    </tr>\n",
       "  </tbody>\n",
       "</table>\n",
       "</div>"
      ],
      "text/plain": [
       "            Farm Price  Atlanta Retail  Chicago Retail  Los Angeles Retail  \\\n",
       "Date                                                                         \n",
       "2019-05-19        1.16            2.23            1.70                1.99   \n",
       "2019-05-12        0.91            2.67            1.89                2.47   \n",
       "2019-05-05        0.58            2.42            1.89                2.12   \n",
       "2019-04-28        0.58            2.79            1.95                2.38   \n",
       "2019-04-21        0.69            2.92            2.04                2.38   \n",
       "\n",
       "            NYC Retail Avg Spread     Commodity        Date  \n",
       "Date                                                         \n",
       "2019-05-19        2.54     82.33%  Strawberries  2019-05-19  \n",
       "2019-05-12        2.66    166.21%  Strawberries  2019-05-12  \n",
       "2019-05-05        2.91    302.59%  Strawberries  2019-05-05  \n",
       "2019-04-28        2.96    334.48%  Strawberries  2019-04-28  \n",
       "2019-04-21        3.16    280.43%  Strawberries  2019-04-21  "
      ]
     },
     "execution_count": 31,
     "metadata": {},
     "output_type": "execute_result"
    }
   ],
   "source": [
    "produce_dict['Strawberries'].head()"
   ]
  },
  {
   "cell_type": "code",
   "execution_count": 33,
   "metadata": {},
   "outputs": [
    {
     "name": "stderr",
     "output_type": "stream",
     "text": [
      "<ipython-input-33-e8d73af7f0dd>:4: SettingWithCopyWarning: \n",
      "A value is trying to be set on a copy of a slice from a DataFrame.\n",
      "Try using .loc[row_indexer,col_indexer] = value instead\n",
      "\n",
      "See the caveats in the documentation: http://pandas.pydata.org/pandas-docs/stable/user_guide/indexing.html#returning-a-view-versus-a-copy\n",
      "  produce_dict[item]['avg_retail'] = avg_retail\n",
      "<ipython-input-33-e8d73af7f0dd>:5: SettingWithCopyWarning: \n",
      "A value is trying to be set on a copy of a slice from a DataFrame.\n",
      "Try using .loc[row_indexer,col_indexer] = value instead\n",
      "\n",
      "See the caveats in the documentation: http://pandas.pydata.org/pandas-docs/stable/user_guide/indexing.html#returning-a-view-versus-a-copy\n",
      "  produce_dict[item]['avg_retail_std'] = avg_retail_std\n"
     ]
    }
   ],
   "source": [
    "for item in produce_list:\n",
    "    avg_retail = [np.mean(x[1:5]) for x in produce_dict[item].values]\n",
    "    avg_retail_std = [np.std(x[1:5]) for x in produce_dict[item].values]\n",
    "    produce_dict[item]['avg_retail'] = avg_retail\n",
    "    produce_dict[item]['avg_retail_std'] = avg_retail_std\n",
    "    "
   ]
  },
  {
   "cell_type": "code",
   "execution_count": null,
   "metadata": {},
   "outputs": [],
   "source": []
  }
 ],
 "metadata": {
  "kernelspec": {
   "display_name": "agriculture-project",
   "language": "python",
   "name": "agriculture-project"
  },
  "language_info": {
   "codemirror_mode": {
    "name": "ipython",
    "version": 3
   },
   "file_extension": ".py",
   "mimetype": "text/x-python",
   "name": "python",
   "nbconvert_exporter": "python",
   "pygments_lexer": "ipython3",
   "version": "3.8.0"
  }
 },
 "nbformat": 4,
 "nbformat_minor": 4
}
