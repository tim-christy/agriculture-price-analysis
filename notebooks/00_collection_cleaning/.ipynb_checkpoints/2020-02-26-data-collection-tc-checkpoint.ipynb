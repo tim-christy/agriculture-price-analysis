{
 "cells": [
  {
   "cell_type": "code",
   "execution_count": 14,
   "metadata": {},
   "outputs": [],
   "source": [
    "import os\n",
    "import sqlite3\n",
    "import numpy as np\n",
    "import pandas as pd\n",
    "import matplotlib.pyplot as plt\n",
    "%matplotlib inline\n",
    "\n",
    "from urllib.request import urlopen\n",
    "from bs4 import BeautifulSoup as soup\n",
    "\n",
    "import seaborn as sns\n",
    "sns.set()\n",
    "\n",
    "url = \"http://www.producepriceindex.com/\"\n",
    "\n",
    "urls = ['http://www.producepriceindex.com/produce-price-index?'+ \n",
    "        'field_ppi_commodity_target_id=All&field_ppi_date_value'+ \n",
    "        f'%5Bmin%5D=&field_ppi_date_value%5Bmax%5D=&page={i}' for i in range(0, 638)]"
   ]
  },
  {
   "cell_type": "code",
   "execution_count": 8,
   "metadata": {},
   "outputs": [],
   "source": [
    "def collect_data(url_page):\n",
    "    '''Function goes to url specified by url_page, scrapes all the table data and returns bs4 html data,\n",
    "       that is, it returns all the html data from the webpage.\n",
    "    '''\n",
    "    \n",
    "    uClient = urlopen(url_page) # Opens first page\n",
    "    html = uClient.read() # Reads in all HTML for that page\n",
    "    uClient.close() # Close connection\n",
    "    page_soup = soup(html, 'html.parser') # Create soup object\n",
    "    data = page_soup.find_all('td') # Grab the table data section\n",
    "    \n",
    "    return data\n",
    "    "
   ]
  },
  {
   "cell_type": "code",
   "execution_count": 102,
   "metadata": {},
   "outputs": [],
   "source": [
    "data = collect_data(urls[-1])"
   ]
  },
  {
   "cell_type": "code",
   "execution_count": 154,
   "metadata": {},
   "outputs": [],
   "source": [
    "commodities = []\n",
    "dates = []\n",
    "farm_price = []\n",
    "atl_retail = []\n",
    "chi_retail = []\n",
    "la_retail = []\n",
    "nyc_retail = []\n",
    "\n",
    "for page in urls:   \n",
    "    data = collect_data(page)\n",
    "    \n",
    "    for j in range(25):\n",
    "\n",
    "        # Collect commodity names\n",
    "        name = [x for x in data[j*8].contents[0].split(' ')if ((x != '\\n') & (x != ' ') & (x != ''))]\n",
    "        commodities.append(' '.join(name))\n",
    "\n",
    "        # Collect dates\n",
    "        dates.append(data[1+j*8].contents[1].contents[0])\n",
    "\n",
    "        # Collect farm prices\n",
    "        try:\n",
    "            farm_price.append(float(data[2 + j*8].contents[0].split('$')[1]))\n",
    "            \n",
    "        except:\n",
    "            farm_price.append(np.nan)\n",
    "\n",
    "        # Atlanta Retail\n",
    "        try:\n",
    "            atl_retail.append(float(data[3 + j*8].contents[0].split('$')[1]))\n",
    "            \n",
    "        except:\n",
    "            atl_retail.append(np.nan)\n",
    "        \n",
    "        # Chicago Retail\n",
    "        try:\n",
    "            chi_retail.append(float(data[4 + j*8].contents[0].split('$')[1]))\n",
    "        except:\n",
    "            print(page)\n",
    "\n",
    "        # Los Angeles Retail\n",
    "        try:\n",
    "            la_retail.append(float(data[5 + j*8].contents[0].split('$')[1]))\n",
    "        except:\n",
    "            print(page)\n",
    "            \n",
    "\n",
    "        # New York Retail\n",
    "        try:\n",
    "            nyc_retail.append(float(data[6 + j*8].contents[0].split('$')[1]))\n",
    "        except:\n",
    "            nyc_retail.append(np.nan)\n",
    "            \n",
    "    \n",
    "    \n",
    "    \n",
    "\n",
    "    "
   ]
  },
  {
   "cell_type": "code",
   "execution_count": 155,
   "metadata": {},
   "outputs": [
    {
     "data": {
      "text/plain": [
       "15950"
      ]
     },
     "execution_count": 155,
     "metadata": {},
     "output_type": "execute_result"
    }
   ],
   "source": [
    "len(nyc_retail)"
   ]
  },
  {
   "cell_type": "code",
   "execution_count": null,
   "metadata": {},
   "outputs": [],
   "source": []
  }
 ],
 "metadata": {
  "kernelspec": {
   "display_name": "Python 3",
   "language": "python",
   "name": "python3"
  },
  "language_info": {
   "codemirror_mode": {
    "name": "ipython",
    "version": 3
   },
   "file_extension": ".py",
   "mimetype": "text/x-python",
   "name": "python",
   "nbconvert_exporter": "python",
   "pygments_lexer": "ipython3",
   "version": "3.7.4"
  }
 },
 "nbformat": 4,
 "nbformat_minor": 2
}
