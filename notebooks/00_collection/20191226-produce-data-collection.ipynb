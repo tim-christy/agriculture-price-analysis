{
 "cells": [
  {
   "cell_type": "markdown",
   "metadata": {},
   "source": [
    "# Objectives\n",
    "1. To observe how the price of various produce has changed overtime. To do this, I am going to collect data from [producepriceindex.com](https://www.producepriceindex.com) which cites its sources for this data as the USDA Market News Reports for Farm Gate Prices & U.S. Marketing Services for Retail Prices. The data appears to cover weekly prices from January 2000 to around May 2019. I don't see an option to download this data and am going to collect it via BeautifulSoup."
   ]
  },
  {
   "cell_type": "code",
   "execution_count": 59,
   "metadata": {},
   "outputs": [],
   "source": [
    "from urllib.request import urlopen\n",
    "from bs4 import BeautifulSoup as soup\n",
    "import pandas as pd \n",
    "\n",
    "import d01_data as data_functions"
   ]
  },
  {
   "cell_type": "code",
   "execution_count": 60,
   "metadata": {},
   "outputs": [],
   "source": [
    "URL = \"http://www.producepriceindex.com/\""
   ]
  },
  {
   "cell_type": "code",
   "execution_count": 61,
   "metadata": {
    "scrolled": true
   },
   "outputs": [
    {
     "ename": "NameError",
     "evalue": "name 'urlopen' is not defined",
     "output_type": "error",
     "traceback": [
      "\u001b[0;31m---------------------------------------------------------------------------\u001b[0m",
      "\u001b[0;31mNameError\u001b[0m                                 Traceback (most recent call last)",
      "\u001b[0;32m<ipython-input-61-5044690a2aba>\u001b[0m in \u001b[0;36m<module>\u001b[0;34m\u001b[0m\n\u001b[0;32m----> 1\u001b[0;31m \u001b[0mdata_functions\u001b[0m\u001b[0;34m.\u001b[0m\u001b[0mscrape_page_data\u001b[0m\u001b[0;34m(\u001b[0m\u001b[0mURL\u001b[0m\u001b[0;34m)\u001b[0m\u001b[0;34m;\u001b[0m\u001b[0;34m\u001b[0m\u001b[0;34m\u001b[0m\u001b[0m\n\u001b[0m",
      "\u001b[0;32m~/Desktop/agriculture-price-analysis/notebooks/00_collection/d01_data.py\u001b[0m in \u001b[0;36mscrape_page_data\u001b[0;34m(url)\u001b[0m\n\u001b[1;32m      4\u001b[0m \u001b[0;34m\u001b[0m\u001b[0m\n\u001b[1;32m      5\u001b[0m \u001b[0;34m\u001b[0m\u001b[0m\n\u001b[0;32m----> 6\u001b[0;31m \u001b[0;34m\u001b[0m\u001b[0m\n\u001b[0m\u001b[1;32m      7\u001b[0m \u001b[0;32mdef\u001b[0m \u001b[0mscrape_page_data\u001b[0m\u001b[0;34m(\u001b[0m\u001b[0murl\u001b[0m\u001b[0;34m)\u001b[0m\u001b[0;34m:\u001b[0m\u001b[0;34m\u001b[0m\u001b[0;34m\u001b[0m\u001b[0m\n\u001b[1;32m      8\u001b[0m     '''\n",
      "\u001b[0;31mNameError\u001b[0m: name 'urlopen' is not defined"
     ]
    }
   ],
   "source": [
    "data_functions.scrape_page_data(URL);"
   ]
  },
  {
   "cell_type": "code",
   "execution_count": 16,
   "metadata": {},
   "outputs": [],
   "source": [
    "url_list = collect_all_urls(1, 637)"
   ]
  },
  {
   "cell_type": "markdown",
   "metadata": {},
   "source": [
    "Create a dictionary to store commodity data. Each produce item will serve as a key in this dictionary\n",
    "The value data will be a list of the date followed by the farm price, Atlanta, Chicago, LA, and NYC retail prices,\n",
    "and finally the average spread. This list will repeat these 7 data points each time a commodity shows up on a page\n",
    "For example, for strawberries, the entry will look something like\n",
    "\n",
    "```{\"strawberries\": ['2019-05-01', '$0.89', '$2.09', '$2.49', '$3.00', '$3.01', '139.82%', \"2019-04-20\", ...]}```\n",
    "\n",
    "Will have to fix the data types and configure it into a dataframe later. Collect data into the dictionary \"produce\" for now"
   ]
  },
  {
   "cell_type": "markdown",
   "metadata": {},
   "source": [
    "The above code creates a dictionary that holds the produce names as keys, and a list of all the available data for that produce as its value pair. This is pretty messy. To clean this up, I will be storing the same keys, but for the values I will put all the data into a dataframe with the date as an index."
   ]
  },
  {
   "cell_type": "code",
   "execution_count": 23,
   "metadata": {},
   "outputs": [],
   "source": [
    "produce_df_dict = scraped_to_dataframe(url_list)"
   ]
  },
  {
   "cell_type": "markdown",
   "metadata": {},
   "source": [
    "Alright. Now to make one data frame that holds it all."
   ]
  },
  {
   "cell_type": "code",
   "execution_count": 25,
   "metadata": {},
   "outputs": [],
   "source": [
    "all_data_df = create_one_dataframe(produce_df_dict)"
   ]
  },
  {
   "cell_type": "code",
   "execution_count": 32,
   "metadata": {},
   "outputs": [
    {
     "data": {
      "text/plain": [
       "Nectarines            15612\n",
       "Peaches               15313\n",
       "Plums                 14997\n",
       "Tomatoes              14761\n",
       "Cantaloupe            14289\n",
       "Honeydews             13788\n",
       "Thompson Grapes       13327\n",
       "Flame Grapes          13037\n",
       "Asparagus             12536\n",
       "Broccoli Crowns       12276\n",
       "Carrots               11290\n",
       "Cauliflower           10304\n",
       "Celery                 9318\n",
       "Green Leaf Lettuce     8332\n",
       "Iceberg Lettuce        7346\n",
       "Oranges                6360\n",
       "Potatoes               5518\n",
       "Red Leaf Lettuce       4657\n",
       "Romaine Lettuce        3671\n",
       "Strawberries           2685\n",
       "Avocados               1701\n",
       "Broccoli Bunches        985\n",
       "Name: Commodity, dtype: int64"
      ]
     },
     "execution_count": 32,
     "metadata": {},
     "output_type": "execute_result"
    }
   ],
   "source": [
    "all_data_df['Commodity'].value_counts()"
   ]
  },
  {
   "cell_type": "markdown",
   "metadata": {},
   "source": [
    "Cool. Now to save it in a database."
   ]
  },
  {
   "cell_type": "code",
   "execution_count": 38,
   "metadata": {},
   "outputs": [],
   "source": [
    "import sqlite3\n",
    "conn = sqlite3.connect('agriculture_prices.db')\n",
    "c = conn.cursor()"
   ]
  },
  {
   "cell_type": "code",
   "execution_count": 39,
   "metadata": {},
   "outputs": [
    {
     "ename": "OperationalError",
     "evalue": "table agriculture_prices already exists",
     "output_type": "error",
     "traceback": [
      "\u001b[0;31m---------------------------------------------------------------------------\u001b[0m",
      "\u001b[0;31mOperationalError\u001b[0m                          Traceback (most recent call last)",
      "\u001b[0;32m<ipython-input-39-38e356062af4>\u001b[0m in \u001b[0;36m<module>\u001b[0;34m\u001b[0m\n\u001b[0;32m----> 1\u001b[0;31m c.execute('''CREATE TABLE agriculture_prices (\n\u001b[0m\u001b[1;32m      2\u001b[0m                     \u001b[0mdate\u001b[0m \u001b[0mBLOB\u001b[0m\u001b[0;34m,\u001b[0m\u001b[0;34m\u001b[0m\u001b[0;34m\u001b[0m\u001b[0m\n\u001b[1;32m      3\u001b[0m                     \u001b[0mfarm_price\u001b[0m \u001b[0mREAL\u001b[0m\u001b[0;34m,\u001b[0m\u001b[0;34m\u001b[0m\u001b[0;34m\u001b[0m\u001b[0m\n\u001b[1;32m      4\u001b[0m                     \u001b[0matlanta_retail\u001b[0m \u001b[0mREAL\u001b[0m\u001b[0;34m,\u001b[0m\u001b[0;34m\u001b[0m\u001b[0;34m\u001b[0m\u001b[0m\n\u001b[1;32m      5\u001b[0m                     \u001b[0mchicago_retail\u001b[0m \u001b[0mREAL\u001b[0m\u001b[0;34m,\u001b[0m\u001b[0;34m\u001b[0m\u001b[0;34m\u001b[0m\u001b[0m\n",
      "\u001b[0;31mOperationalError\u001b[0m: table agriculture_prices already exists"
     ]
    }
   ],
   "source": [
    "c.execute('''CREATE TABLE agriculture_prices (\n",
    "                    date BLOB,\n",
    "                    farm_price REAL,\n",
    "                    atlanta_retail REAL,\n",
    "                    chicago_retail REAL,\n",
    "                    los_angeles_retail REAL,\n",
    "                    nyc_retail REAL,\n",
    "                    avg_spread TEXT,\n",
    "                    commodity TEXT)''')\n",
    "\n",
    "conn.commit()\n"
   ]
  },
  {
   "cell_type": "code",
   "execution_count": null,
   "metadata": {},
   "outputs": [],
   "source": [
    "make_db(len(all_data_df))"
   ]
  },
  {
   "cell_type": "code",
   "execution_count": 42,
   "metadata": {},
   "outputs": [],
   "source": [
    "grand_df = c.execute('''SELECT * FROM agriculture_prices''').fetchall()"
   ]
  },
  {
   "cell_type": "code",
   "execution_count": 43,
   "metadata": {},
   "outputs": [
    {
     "data": {
      "text/plain": [
       "[]"
      ]
     },
     "execution_count": 43,
     "metadata": {},
     "output_type": "execute_result"
    }
   ],
   "source": [
    "grand_df[:5]"
   ]
  },
  {
   "cell_type": "code",
   "execution_count": 44,
   "metadata": {},
   "outputs": [
    {
     "data": {
      "text/plain": [
       "[]"
      ]
     },
     "execution_count": 44,
     "metadata": {},
     "output_type": "execute_result"
    }
   ],
   "source": [
    "grand_df[-5:]"
   ]
  },
  {
   "cell_type": "markdown",
   "metadata": {},
   "source": [
    "Looks like it worked and the database has been created."
   ]
  },
  {
   "cell_type": "code",
   "execution_count": null,
   "metadata": {},
   "outputs": [],
   "source": []
  }
 ],
 "metadata": {
  "kernelspec": {
   "display_name": "agriculture-project",
   "language": "python",
   "name": "agriculture-project"
  },
  "language_info": {
   "codemirror_mode": {
    "name": "ipython",
    "version": 3
   },
   "file_extension": ".py",
   "mimetype": "text/x-python",
   "name": "python",
   "nbconvert_exporter": "python",
   "pygments_lexer": "ipython3",
   "version": "3.8.0"
  }
 },
 "nbformat": 4,
 "nbformat_minor": 4
}
