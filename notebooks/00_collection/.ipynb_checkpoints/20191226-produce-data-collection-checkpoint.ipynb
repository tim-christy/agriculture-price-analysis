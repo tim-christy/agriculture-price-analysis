{
 "cells": [
  {
   "cell_type": "markdown",
   "metadata": {},
   "source": [
    "# Objectives\n",
    "1. To observe how the price of various produce has changed overtime, I am collecting data from [producepriceindex.com](https://www.producepriceindex.com) which cites its sources for this data as the USDA Market News Reports for Farm Gate Prices & U.S. Marketing Services for Retail Prices. The data covers weekly prices from January 2000 to around May 2019. I don't see an option to download this data and am going to collect it by webscraping with BeautifulSoup."
   ]
  },
  {
   "cell_type": "code",
   "execution_count": 1,
   "metadata": {},
   "outputs": [],
   "source": [
    "# Imports\n",
    "from urllib.request import urlopen\n",
    "from bs4 import BeautifulSoup as soup\n",
    "import pandas as pd \n",
    "import matplotlib.pyplot as plt\n",
    "\n",
    "import os\n",
    "import sys\n",
    "\n",
    "# Add path for written functions. Available in scr/d01_data \n",
    "src_dir = '../../src/d01_data/'\n",
    "sys.path.append(src_dir)\n",
    "\n",
    "import d01_data as data_functions"
   ]
  },
  {
   "cell_type": "code",
   "execution_count": 2,
   "metadata": {},
   "outputs": [],
   "source": [
    "URL = \"http://www.producepriceindex.com/\""
   ]
  },
  {
   "cell_type": "markdown",
   "metadata": {},
   "source": [
    "# Web-scraping functions\n",
    "```collect_all_urls()``` grabs a list of all the needed web pages for scraping. This list is then passed to ```scraped_to_data_frame``` which goes to each webpage to collect the data and store it into a dictionary. This dictionary has the key-value pairs of produce name as key and a dataframe containing all the data about that produce as a value. The arguments \"1\" and \"637\" are the page numbers ro click through because the producepriceindex.com displays a limited amount of rows per page and needs to be clicked to the next page 637 times to grab all the data."
   ]
  },
  {
   "cell_type": "code",
   "execution_count": 3,
   "metadata": {},
   "outputs": [],
   "source": [
    "url_list = data_functions.collect_all_urls(1, 637)"
   ]
  },
  {
   "cell_type": "code",
   "execution_count": 4,
   "metadata": {},
   "outputs": [],
   "source": [
    "produce_df_dict = data_functions.scraped_to_dataframe(url_list)"
   ]
  },
  {
   "cell_type": "markdown",
   "metadata": {},
   "source": [
    "# Storing Everything into One Dataframe\n",
    "The function above gave us a dictionary of dataframes. It was done thi way because it was what immediately came to mind as the easiest solution to sort the data by commodity type as it was scraped. To store the data in a database however, it will be easier to have everything in one dataframe. The function below takes the dictionary created above (```produce_df_dict```) and turns it into a dataframe."
   ]
  },
  {
   "cell_type": "code",
   "execution_count": 5,
   "metadata": {},
   "outputs": [],
   "source": [
    "all_data_df = data_functions.create_one_dataframe(produce_df_dict)"
   ]
  },
  {
   "cell_type": "code",
   "execution_count": 6,
   "metadata": {},
   "outputs": [],
   "source": [
    "all_data_df['Date'] = all_data_df.index # making a date column for easier storage to database."
   ]
  },
  {
   "cell_type": "code",
   "execution_count": 7,
   "metadata": {},
   "outputs": [
    {
     "data": {
      "text/plain": [
       "Nectarines            15620\n",
       "Peaches               15321\n",
       "Plums                 15004\n",
       "Tomatoes              14768\n",
       "Cantaloupe            14297\n",
       "Honeydews             13794\n",
       "Thompson Grapes       13333\n",
       "Flame Grapes          13042\n",
       "Asparagus             12541\n",
       "Broccoli Crowns       12281\n",
       "Carrots               11295\n",
       "Cauliflower           10309\n",
       "Celery                 9323\n",
       "Green Leaf Lettuce     8337\n",
       "Iceberg Lettuce        7351\n",
       "Oranges                6365\n",
       "Potatoes               5523\n",
       "Red Leaf Lettuce       4661\n",
       "Romaine Lettuce        3675\n",
       "Strawberries           2689\n",
       "Avocados               1703\n",
       "Broccoli Bunches        986\n",
       "Name: Commodity, dtype: int64"
      ]
     },
     "execution_count": 7,
     "metadata": {},
     "output_type": "execute_result"
    }
   ],
   "source": [
    "all_data_df['Commodity'].value_counts()"
   ]
  },
  {
   "cell_type": "markdown",
   "metadata": {},
   "source": [
    "# Data count is skewed. \n",
    "I don't think it will matter for the analysis. We will be analyzing the produce individually, but will need to keep in mind the sample sizes if comparing different produce to each other."
   ]
  },
  {
   "cell_type": "code",
   "execution_count": 8,
   "metadata": {},
   "outputs": [
    {
     "data": {
      "text/plain": [
       "(array([2., 2., 1., 2., 1., 2., 1., 3., 3., 5.]),\n",
       " array([  986. ,  2449.4,  3912.8,  5376.2,  6839.6,  8303. ,  9766.4,\n",
       "        11229.8, 12693.2, 14156.6, 15620. ]),\n",
       " <a list of 10 Patch objects>)"
      ]
     },
     "execution_count": 8,
     "metadata": {},
     "output_type": "execute_result"
    },
    {
     "data": {
      "image/png": "[encoded data removed]",
      "text/plain": [
       "<Figure size 432x288 with 1 Axes>"
      ]
     },
     "metadata": {
      "needs_background": "light"
     },
     "output_type": "display_data"
    }
   ],
   "source": [
    "plt.hist(all_data_df['Commodity'].value_counts())"
   ]
  },
  {
   "cell_type": "markdown",
   "metadata": {},
   "source": [
    "Time to save it in a database."
   ]
  },
  {
   "cell_type": "code",
   "execution_count": 9,
   "metadata": {},
   "outputs": [],
   "source": [
    "import sqlite3\n",
    "conn = sqlite3.connect('../../data/00_raw/produce_prices.db')\n",
    "c = conn.cursor()"
   ]
  },
  {
   "cell_type": "code",
   "execution_count": 10,
   "metadata": {},
   "outputs": [],
   "source": [
    "c.execute('''CREATE TABLE produce_prices (\n",
    "                    date BLOB,\n",
    "                    farm_price REAL,\n",
    "                    atlanta_retail REAL,\n",
    "                    chicago_retail REAL,\n",
    "                    los_angeles_retail REAL,\n",
    "                    nyc_retail REAL,\n",
    "                    avg_spread TEXT,\n",
    "                    commodity TEXT)''')\n",
    "\n",
    "conn.commit()\n"
   ]
  },
  {
   "cell_type": "code",
   "execution_count": 11,
   "metadata": {},
   "outputs": [],
   "source": [
    "data_functions.make_db(c, conn, all_data_df)"
   ]
  },
  {
   "cell_type": "code",
   "execution_count": 12,
   "metadata": {},
   "outputs": [],
   "source": [
    "grand_df = pd.DataFrame(c.execute('''SELECT * FROM produce_prices''').fetchall())"
   ]
  },
  {
   "cell_type": "code",
   "execution_count": 13,
   "metadata": {},
   "outputs": [
    {
     "data": {
      "text/html": [
       "<div>\n",
       "<style scoped>\n",
       "    .dataframe tbody tr th:only-of-type {\n",
       "        vertical-align: middle;\n",
       "    }\n",
       "\n",
       "    .dataframe tbody tr th {\n",
       "        vertical-align: top;\n",
       "    }\n",
       "\n",
       "    .dataframe thead th {\n",
       "        text-align: right;\n",
       "    }\n",
       "</style>\n",
       "<table border=\"1\" class=\"dataframe\">\n",
       "  <thead>\n",
       "    <tr style=\"text-align: right;\">\n",
       "      <th></th>\n",
       "      <th>0</th>\n",
       "      <th>1</th>\n",
       "      <th>2</th>\n",
       "      <th>3</th>\n",
       "      <th>4</th>\n",
       "      <th>5</th>\n",
       "      <th>6</th>\n",
       "      <th>7</th>\n",
       "    </tr>\n",
       "  </thead>\n",
       "  <tbody>\n",
       "    <tr>\n",
       "      <th>0</th>\n",
       "      <td>1.09</td>\n",
       "      <td>1.48</td>\n",
       "      <td>2.11</td>\n",
       "      <td>1.16</td>\n",
       "      <td>1.48</td>\n",
       "      <td>42.89%</td>\n",
       "      <td>Broccoli Bunches</td>\n",
       "      <td>2019-05-12</td>\n",
       "    </tr>\n",
       "    <tr>\n",
       "      <th>1</th>\n",
       "      <td>1.27</td>\n",
       "      <td>1.61</td>\n",
       "      <td>2.04</td>\n",
       "      <td>1.56</td>\n",
       "      <td>1.63</td>\n",
       "      <td>34.65%</td>\n",
       "      <td>Broccoli Bunches</td>\n",
       "      <td>2019-04-28</td>\n",
       "    </tr>\n",
       "    <tr>\n",
       "      <th>2</th>\n",
       "      <td>0.85</td>\n",
       "      <td>1.64</td>\n",
       "      <td>2.04</td>\n",
       "      <td>1.49</td>\n",
       "      <td>1.63</td>\n",
       "      <td>100.00%</td>\n",
       "      <td>Broccoli Bunches</td>\n",
       "      <td>2019-04-21</td>\n",
       "    </tr>\n",
       "    <tr>\n",
       "      <th>3</th>\n",
       "      <td>0.57</td>\n",
       "      <td>1.94</td>\n",
       "      <td>2.24</td>\n",
       "      <td>1.49</td>\n",
       "      <td>1.63</td>\n",
       "      <td>220.18%</td>\n",
       "      <td>Broccoli Bunches</td>\n",
       "      <td>2019-04-14</td>\n",
       "    </tr>\n",
       "    <tr>\n",
       "      <th>4</th>\n",
       "      <td>0.73</td>\n",
       "      <td>1.94</td>\n",
       "      <td>2.07</td>\n",
       "      <td>1.49</td>\n",
       "      <td>1.89</td>\n",
       "      <td>153.08%</td>\n",
       "      <td>Broccoli Bunches</td>\n",
       "      <td>2019-03-31</td>\n",
       "    </tr>\n",
       "  </tbody>\n",
       "</table>\n",
       "</div>"
      ],
      "text/plain": [
       "      0     1     2     3     4        5                 6           7\n",
       "0  1.09  1.48  2.11  1.16  1.48   42.89%  Broccoli Bunches  2019-05-12\n",
       "1  1.27  1.61  2.04  1.56  1.63   34.65%  Broccoli Bunches  2019-04-28\n",
       "2  0.85  1.64  2.04  1.49  1.63  100.00%  Broccoli Bunches  2019-04-21\n",
       "3  0.57  1.94  2.24  1.49  1.63  220.18%  Broccoli Bunches  2019-04-14\n",
       "4  0.73  1.94  2.07  1.49  1.89  153.08%  Broccoli Bunches  2019-03-31"
      ]
     },
     "execution_count": 13,
     "metadata": {},
     "output_type": "execute_result"
    }
   ],
   "source": [
    "grand_df[:5]"
   ]
  },
  {
   "cell_type": "code",
   "execution_count": 14,
   "metadata": {},
   "outputs": [
    {
     "data": {
      "text/html": [
       "<div>\n",
       "<style scoped>\n",
       "    .dataframe tbody tr th:only-of-type {\n",
       "        vertical-align: middle;\n",
       "    }\n",
       "\n",
       "    .dataframe tbody tr th {\n",
       "        vertical-align: top;\n",
       "    }\n",
       "\n",
       "    .dataframe thead th {\n",
       "        text-align: right;\n",
       "    }\n",
       "</style>\n",
       "<table border=\"1\" class=\"dataframe\">\n",
       "  <thead>\n",
       "    <tr style=\"text-align: right;\">\n",
       "      <th></th>\n",
       "      <th>0</th>\n",
       "      <th>1</th>\n",
       "      <th>2</th>\n",
       "      <th>3</th>\n",
       "      <th>4</th>\n",
       "      <th>5</th>\n",
       "      <th>6</th>\n",
       "      <th>7</th>\n",
       "    </tr>\n",
       "  </thead>\n",
       "  <tbody>\n",
       "    <tr>\n",
       "      <th>212212</th>\n",
       "      <td>0.32</td>\n",
       "      <td>1.44</td>\n",
       "      <td>0.0</td>\n",
       "      <td>1.19</td>\n",
       "      <td>1.34</td>\n",
       "      <td>210.16%</td>\n",
       "      <td>Nectarines</td>\n",
       "      <td>2000-07-30</td>\n",
       "    </tr>\n",
       "    <tr>\n",
       "      <th>212213</th>\n",
       "      <td>0.28</td>\n",
       "      <td>1.69</td>\n",
       "      <td>0.0</td>\n",
       "      <td>1.24</td>\n",
       "      <td>1.19</td>\n",
       "      <td>267.86%</td>\n",
       "      <td>Nectarines</td>\n",
       "      <td>2000-07-23</td>\n",
       "    </tr>\n",
       "    <tr>\n",
       "      <th>212214</th>\n",
       "      <td>0.26</td>\n",
       "      <td>1.61</td>\n",
       "      <td>0.0</td>\n",
       "      <td>1.37</td>\n",
       "      <td>1.19</td>\n",
       "      <td>300.96%</td>\n",
       "      <td>Nectarines</td>\n",
       "      <td>2000-07-16</td>\n",
       "    </tr>\n",
       "    <tr>\n",
       "      <th>212215</th>\n",
       "      <td>0.30</td>\n",
       "      <td>1.71</td>\n",
       "      <td>0.0</td>\n",
       "      <td>1.42</td>\n",
       "      <td>1.19</td>\n",
       "      <td>260.00%</td>\n",
       "      <td>Nectarines</td>\n",
       "      <td>2000-07-09</td>\n",
       "    </tr>\n",
       "    <tr>\n",
       "      <th>212216</th>\n",
       "      <td>0.33</td>\n",
       "      <td>1.96</td>\n",
       "      <td>0.0</td>\n",
       "      <td>0.92</td>\n",
       "      <td>1.04</td>\n",
       "      <td>196.97%</td>\n",
       "      <td>Nectarines</td>\n",
       "      <td>2000-07-02</td>\n",
       "    </tr>\n",
       "  </tbody>\n",
       "</table>\n",
       "</div>"
      ],
      "text/plain": [
       "           0     1    2     3     4        5           6           7\n",
       "212212  0.32  1.44  0.0  1.19  1.34  210.16%  Nectarines  2000-07-30\n",
       "212213  0.28  1.69  0.0  1.24  1.19  267.86%  Nectarines  2000-07-23\n",
       "212214  0.26  1.61  0.0  1.37  1.19  300.96%  Nectarines  2000-07-16\n",
       "212215  0.30  1.71  0.0  1.42  1.19  260.00%  Nectarines  2000-07-09\n",
       "212216  0.33  1.96  0.0  0.92  1.04  196.97%  Nectarines  2000-07-02"
      ]
     },
     "execution_count": 14,
     "metadata": {},
     "output_type": "execute_result"
    }
   ],
   "source": [
    "grand_df[-5:]"
   ]
  },
  {
   "cell_type": "markdown",
   "metadata": {},
   "source": [
    "Looks like it worked and the database has been created."
   ]
  },
  {
   "cell_type": "code",
   "execution_count": 15,
   "metadata": {},
   "outputs": [],
   "source": [
    "conn.close()"
   ]
  },
  {
   "cell_type": "code",
   "execution_count": null,
   "metadata": {},
   "outputs": [],
   "source": []
  }
 ],
 "metadata": {
  "kernelspec": {
   "display_name": "agriculture-project",
   "language": "python",
   "name": "agriculture-project"
  },
  "language_info": {
   "codemirror_mode": {
    "name": "ipython",
    "version": 3
   },
   "file_extension": ".py",
   "mimetype": "text/x-python",
   "name": "python",
   "nbconvert_exporter": "python",
   "pygments_lexer": "ipython3",
   "version": "3.8.0"
  }
 },
 "nbformat": 4,
 "nbformat_minor": 4
}
