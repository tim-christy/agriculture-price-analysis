{
 "cells": [
  {
   "cell_type": "markdown",
   "metadata": {},
   "source": [
    "# Objectives\n",
    "1. To observe how the price of various produce has changed overtime. To do this, I am going to collect data from [producepriceindex.com](https://www.producepriceindex.com) which cites its sources for this data as the USDA Market News Reports for Farm Gate Prices & U.S. Marketing Services for Retail Prices. The data appears to cover weekly prices from January 2000 to around May 2019. I don't see an option to download this data and am going to collect it via BeautifulSoup."
   ]
  },
  {
   "cell_type": "code",
   "execution_count": 1,
   "metadata": {},
   "outputs": [],
   "source": [
    "from urllib.request import urlopen\n",
    "from bs4 import BeautifulSoup as soup\n",
    "import pandas as pd # Need to export data as df"
   ]
  },
  {
   "cell_type": "code",
   "execution_count": 2,
   "metadata": {},
   "outputs": [],
   "source": [
    "URL = \"http://www.producepriceindex.com/\""
   ]
  },
  {
   "cell_type": "code",
   "execution_count": 3,
   "metadata": {},
   "outputs": [
    {
     "data": {
      "text/plain": [
       "[<td class=\"fix-width-16\">\n",
       "             Strawberries          </td>, <td class=\"fix-width-12\">\n",
       " <span class=\"date-display-single\" content=\"2019-05-19T00:00:00-07:00\" datatype=\"xsd:dateTime\" property=\"dc:date\">2019-05-19</span> </td>, <td class=\"fix-width-12\">\n",
       "             $1.16          </td>, <td class=\"fix-width-12\">\n",
       "             $2.23          </td>, <td class=\"fix-width-12\">\n",
       "             $1.70          </td>, <td class=\"fix-width-12\">\n",
       "             $1.99          </td>, <td class=\"fix-width-12\">\n",
       "             $2.54          </td>, <td class=\"views-field views-field-expression-4\">\n",
       "             82.33%          </td>, <td class=\"fix-width-16\">\n",
       "             Romaine Lettuce          </td>, <td class=\"fix-width-12\">\n",
       " <span class=\"date-display-single\" content=\"2019-05-19T00:00:00-07:00\" datatype=\"xsd:dateTime\" property=\"dc:date\">2019-05-19</span> </td>, <td class=\"fix-width-12\">\n",
       "             $0.35          </td>, <td class=\"fix-width-12\">\n",
       "             $1.72          </td>, <td class=\"fix-width-12\">\n",
       "             $2.00          </td>, <td class=\"fix-width-12\">\n",
       "             $1.69          </td>, <td class=\"fix-width-12\">\n",
       "             $1.99          </td>, <td class=\"views-field views-field-expression-4\">\n",
       "             428.57%          </td>, <td class=\"fix-width-16\">\n",
       "             Red Leaf Lettuce          </td>, <td class=\"fix-width-12\">\n",
       " <span class=\"date-display-single\" content=\"2019-05-19T00:00:00-07:00\" datatype=\"xsd:dateTime\" property=\"dc:date\">2019-05-19</span> </td>, <td class=\"fix-width-12\">\n",
       "             $0.32          </td>, <td class=\"fix-width-12\">\n",
       "             $1.84          </td>, <td class=\"fix-width-12\">\n",
       "             $1.84          </td>, <td class=\"fix-width-12\">\n",
       "             $1.69          </td>, <td class=\"fix-width-12\">\n",
       "             $1.89          </td>, <td class=\"views-field views-field-expression-4\">\n",
       "             467.19%          </td>, <td class=\"fix-width-16\">\n",
       "             Potatoes          </td>, <td class=\"fix-width-12\">\n",
       " <span class=\"date-display-single\" content=\"2019-05-19T00:00:00-07:00\" datatype=\"xsd:dateTime\" property=\"dc:date\">2019-05-19</span> </td>, <td class=\"fix-width-12\">\n",
       "             $1.50          </td>, <td class=\"fix-width-12\">\n",
       "             $5.32          </td>, <td class=\"fix-width-12\">\n",
       "             $5.14          </td>, <td class=\"fix-width-12\">\n",
       "             $3.99          </td>, <td class=\"fix-width-12\">\n",
       "             $6.22          </td>, <td class=\"views-field views-field-expression-4\">\n",
       "             244.50%          </td>, <td class=\"fix-width-16\">\n",
       "             Oranges          </td>, <td class=\"fix-width-12\">\n",
       " <span class=\"date-display-single\" content=\"2019-05-19T00:00:00-07:00\" datatype=\"xsd:dateTime\" property=\"dc:date\">2019-05-19</span> </td>, <td class=\"fix-width-12\">\n",
       "             $0.41          </td>, <td class=\"fix-width-12\">\n",
       "             $1.42          </td>, <td class=\"fix-width-12\">\n",
       "             $1.45          </td>, <td class=\"fix-width-12\">\n",
       "             $1.34          </td>, <td class=\"fix-width-12\">\n",
       "             $2.05          </td>, <td class=\"views-field views-field-expression-4\">\n",
       "             281.71%          </td>, <td class=\"fix-width-16\">\n",
       "             Iceberg Lettuce          </td>, <td class=\"fix-width-12\">\n",
       " <span class=\"date-display-single\" content=\"2019-05-19T00:00:00-07:00\" datatype=\"xsd:dateTime\" property=\"dc:date\">2019-05-19</span> </td>, <td class=\"fix-width-12\">\n",
       "             $0.35          </td>, <td class=\"fix-width-12\">\n",
       "             $1.39          </td>, <td class=\"fix-width-12\">\n",
       "             $1.46          </td>, <td class=\"fix-width-12\">\n",
       "             $1.69          </td>, <td class=\"fix-width-12\">\n",
       "             $1.56          </td>, <td class=\"views-field views-field-expression-4\">\n",
       "             335.71%          </td>, <td class=\"fix-width-16\">\n",
       "             Green Leaf Lettuce          </td>, <td class=\"fix-width-12\">\n",
       " <span class=\"date-display-single\" content=\"2019-05-19T00:00:00-07:00\" datatype=\"xsd:dateTime\" property=\"dc:date\">2019-05-19</span> </td>, <td class=\"fix-width-12\">\n",
       "             $0.31          </td>, <td class=\"fix-width-12\">\n",
       "             $1.72          </td>, <td class=\"fix-width-12\">\n",
       "             $1.70          </td>, <td class=\"fix-width-12\">\n",
       "             $1.69          </td>, <td class=\"fix-width-12\">\n",
       "             $1.71          </td>, <td class=\"views-field views-field-expression-4\">\n",
       "             450.00%          </td>, <td class=\"fix-width-16\">\n",
       "             Celery          </td>, <td class=\"fix-width-12\">\n",
       " <span class=\"date-display-single\" content=\"2019-05-19T00:00:00-07:00\" datatype=\"xsd:dateTime\" property=\"dc:date\">2019-05-19</span> </td>, <td class=\"fix-width-12\">\n",
       "             $2.83          </td>, <td class=\"fix-width-12\">\n",
       "             $1.89          </td>, <td class=\"fix-width-12\">\n",
       "             $2.36          </td>, <td class=\"fix-width-12\">\n",
       "             $2.52          </td>, <td class=\"fix-width-12\">\n",
       "             $2.49          </td>, <td class=\"views-field views-field-expression-4\">\n",
       "             -18.20%          </td>, <td class=\"fix-width-16\">\n",
       "             Cauliflower          </td>, <td class=\"fix-width-12\">\n",
       " <span class=\"date-display-single\" content=\"2019-05-19T00:00:00-07:00\" datatype=\"xsd:dateTime\" property=\"dc:date\">2019-05-19</span> </td>, <td class=\"fix-width-12\">\n",
       "             $1.22          </td>, <td class=\"fix-width-12\">\n",
       "             $3.24          </td>, <td class=\"fix-width-12\">\n",
       "             $4.35          </td>, <td class=\"fix-width-12\">\n",
       "             $4.03          </td>, <td class=\"fix-width-12\">\n",
       "             $2.97          </td>, <td class=\"views-field views-field-expression-4\">\n",
       "             198.98%          </td>, <td class=\"fix-width-16\">\n",
       "             Carrots          </td>, <td class=\"fix-width-12\">\n",
       " <span class=\"date-display-single\" content=\"2019-05-19T00:00:00-07:00\" datatype=\"xsd:dateTime\" property=\"dc:date\">2019-05-19</span> </td>, <td class=\"fix-width-12\">\n",
       "             $0.24          </td>, <td class=\"fix-width-12\">\n",
       "             $0.95          </td>, <td class=\"fix-width-12\">\n",
       "             $0.95          </td>, <td class=\"fix-width-12\">\n",
       "             $0.99          </td>, <td class=\"fix-width-12\">\n",
       "             $1.22          </td>, <td class=\"views-field views-field-expression-4\">\n",
       "             328.13%          </td>, <td class=\"fix-width-16\">\n",
       "             Cantaloupe          </td>, <td class=\"fix-width-12\">\n",
       " <span class=\"date-display-single\" content=\"2019-05-19T00:00:00-07:00\" datatype=\"xsd:dateTime\" property=\"dc:date\">2019-05-19</span> </td>, <td class=\"fix-width-12\">\n",
       "             $1.25          </td>, <td class=\"fix-width-12\">\n",
       "             $2.34          </td>, <td class=\"fix-width-12\">\n",
       "             $2.87          </td>, <td class=\"fix-width-12\">\n",
       "             $2.87          </td>, <td class=\"fix-width-12\">\n",
       "             $2.94          </td>, <td class=\"views-field views-field-expression-4\">\n",
       "             120.40%          </td>, <td class=\"fix-width-16\">\n",
       "             Broccoli Crowns          </td>, <td class=\"fix-width-12\">\n",
       " <span class=\"date-display-single\" content=\"2019-05-19T00:00:00-07:00\" datatype=\"xsd:dateTime\" property=\"dc:date\">2019-05-19</span> </td>, <td class=\"fix-width-12\">\n",
       "             $0.73          </td>, <td class=\"fix-width-12\">\n",
       "             $1.49          </td>, <td class=\"fix-width-12\">\n",
       "             $1.80          </td>, <td class=\"fix-width-12\">\n",
       "             $1.99          </td>, <td class=\"fix-width-12\">\n",
       "             $1.99          </td>, <td class=\"views-field views-field-expression-4\">\n",
       "             148.97%          </td>, <td class=\"fix-width-16\">\n",
       "             Avocados          </td>, <td class=\"fix-width-12\">\n",
       " <span class=\"date-display-single\" content=\"2019-05-19T00:00:00-07:00\" datatype=\"xsd:dateTime\" property=\"dc:date\">2019-05-19</span> </td>, <td class=\"fix-width-12\">\n",
       "             $1.23          </td>, <td class=\"fix-width-12\">\n",
       "             $1.16          </td>, <td class=\"fix-width-12\">\n",
       "             $1.82          </td>, <td class=\"fix-width-12\">\n",
       "             $1.75          </td>, <td class=\"fix-width-12\">\n",
       "             $1.69          </td>, <td class=\"views-field views-field-expression-4\">\n",
       "             30.49%          </td>, <td class=\"fix-width-16\">\n",
       "             Strawberries          </td>, <td class=\"fix-width-12\">\n",
       " <span class=\"date-display-single\" content=\"2019-05-12T00:00:00-07:00\" datatype=\"xsd:dateTime\" property=\"dc:date\">2019-05-12</span> </td>, <td class=\"fix-width-12\">\n",
       "             $0.91          </td>, <td class=\"fix-width-12\">\n",
       "             $2.67          </td>, <td class=\"fix-width-12\">\n",
       "             $1.89          </td>, <td class=\"fix-width-12\">\n",
       "             $2.47          </td>, <td class=\"fix-width-12\">\n",
       "             $2.66          </td>, <td class=\"views-field views-field-expression-4\">\n",
       "             166.21%          </td>, <td class=\"fix-width-16\">\n",
       "             Romaine Lettuce          </td>, <td class=\"fix-width-12\">\n",
       " <span class=\"date-display-single\" content=\"2019-05-12T00:00:00-07:00\" datatype=\"xsd:dateTime\" property=\"dc:date\">2019-05-12</span> </td>, <td class=\"fix-width-12\">\n",
       "             $0.36          </td>, <td class=\"fix-width-12\">\n",
       "             $1.74          </td>, <td class=\"fix-width-12\">\n",
       "             $2.00          </td>, <td class=\"fix-width-12\">\n",
       "             $1.69          </td>, <td class=\"fix-width-12\">\n",
       "             $1.99          </td>, <td class=\"views-field views-field-expression-4\">\n",
       "             415.28%          </td>, <td class=\"fix-width-16\">\n",
       "             Red Leaf Lettuce          </td>, <td class=\"fix-width-12\">\n",
       " <span class=\"date-display-single\" content=\"2019-05-12T00:00:00-07:00\" datatype=\"xsd:dateTime\" property=\"dc:date\">2019-05-12</span> </td>, <td class=\"fix-width-12\">\n",
       "             $0.34          </td>, <td class=\"fix-width-12\">\n",
       "             $1.84          </td>, <td class=\"fix-width-12\">\n",
       "             $1.75          </td>, <td class=\"fix-width-12\">\n",
       "             $1.69          </td>, <td class=\"fix-width-12\">\n",
       "             $1.75          </td>, <td class=\"views-field views-field-expression-4\">\n",
       "             416.91%          </td>, <td class=\"fix-width-16\">\n",
       "             Potatoes          </td>, <td class=\"fix-width-12\">\n",
       " <span class=\"date-display-single\" content=\"2019-05-12T00:00:00-07:00\" datatype=\"xsd:dateTime\" property=\"dc:date\">2019-05-12</span> </td>, <td class=\"fix-width-12\">\n",
       "             $1.50          </td>, <td class=\"fix-width-12\">\n",
       "             $5.07          </td>, <td class=\"fix-width-12\">\n",
       "             $5.14          </td>, <td class=\"fix-width-12\">\n",
       "             $3.99          </td>, <td class=\"fix-width-12\">\n",
       "             $6.22          </td>, <td class=\"views-field views-field-expression-4\">\n",
       "             240.33%          </td>, <td class=\"fix-width-16\">\n",
       "             Oranges          </td>, <td class=\"fix-width-12\">\n",
       " <span class=\"date-display-single\" content=\"2019-05-12T00:00:00-07:00\" datatype=\"xsd:dateTime\" property=\"dc:date\">2019-05-12</span> </td>, <td class=\"fix-width-12\">\n",
       "             $0.41          </td>, <td class=\"fix-width-12\">\n",
       "             $1.42          </td>, <td class=\"fix-width-12\">\n",
       "             $1.55          </td>, <td class=\"fix-width-12\">\n",
       "             $1.31          </td>, <td class=\"fix-width-12\">\n",
       "             $1.90          </td>, <td class=\"views-field views-field-expression-4\">\n",
       "             276.83%          </td>, <td class=\"fix-width-16\">\n",
       "             Iceberg Lettuce          </td>, <td class=\"fix-width-12\">\n",
       " <span class=\"date-display-single\" content=\"2019-05-12T00:00:00-07:00\" datatype=\"xsd:dateTime\" property=\"dc:date\">2019-05-12</span> </td>, <td class=\"fix-width-12\">\n",
       "             $0.36          </td>, <td class=\"fix-width-12\">\n",
       "             $1.44          </td>, <td class=\"fix-width-12\">\n",
       "             $1.46          </td>, <td class=\"fix-width-12\">\n",
       "             $1.69          </td>, <td class=\"fix-width-12\">\n",
       "             $1.49          </td>, <td class=\"views-field views-field-expression-4\">\n",
       "             322.22%          </td>, <td class=\"fix-width-16\">\n",
       "             Green Leaf Lettuce          </td>, <td class=\"fix-width-12\">\n",
       " <span class=\"date-display-single\" content=\"2019-05-12T00:00:00-07:00\" datatype=\"xsd:dateTime\" property=\"dc:date\">2019-05-12</span> </td>, <td class=\"fix-width-12\">\n",
       "             $0.35          </td>, <td class=\"fix-width-12\">\n",
       "             $1.72          </td>, <td class=\"fix-width-12\">\n",
       "             $1.70          </td>, <td class=\"fix-width-12\">\n",
       "             $1.69          </td>, <td class=\"fix-width-12\">\n",
       "             $1.71          </td>, <td class=\"views-field views-field-expression-4\">\n",
       "             387.14%          </td>, <td class=\"fix-width-16\">\n",
       "             Celery          </td>, <td class=\"fix-width-12\">\n",
       " <span class=\"date-display-single\" content=\"2019-05-12T00:00:00-07:00\" datatype=\"xsd:dateTime\" property=\"dc:date\">2019-05-12</span> </td>, <td class=\"fix-width-12\">\n",
       "             $2.84          </td>, <td class=\"fix-width-12\">\n",
       "             $1.65          </td>, <td class=\"fix-width-12\">\n",
       "             $2.36          </td>, <td class=\"fix-width-12\">\n",
       "             $2.52          </td>, <td class=\"fix-width-12\">\n",
       "             $2.24          </td>, <td class=\"views-field views-field-expression-4\">\n",
       "             -22.80%          </td>, <td class=\"fix-width-16\">\n",
       "             Cauliflower          </td>, <td class=\"fix-width-12\">\n",
       " <span class=\"date-display-single\" content=\"2019-05-12T00:00:00-07:00\" datatype=\"xsd:dateTime\" property=\"dc:date\">2019-05-12</span> </td>, <td class=\"fix-width-12\">\n",
       "             $2.74          </td>, <td class=\"fix-width-12\">\n",
       "             $3.24          </td>, <td class=\"fix-width-12\">\n",
       "             $4.35          </td>, <td class=\"fix-width-12\">\n",
       "             $3.98          </td>, <td class=\"fix-width-12\">\n",
       "             $3.48          </td>, <td class=\"views-field views-field-expression-4\">\n",
       "             37.32%          </td>, <td class=\"fix-width-16\">\n",
       "             Carrots          </td>, <td class=\"fix-width-12\">\n",
       " <span class=\"date-display-single\" content=\"2019-05-12T00:00:00-07:00\" datatype=\"xsd:dateTime\" property=\"dc:date\">2019-05-12</span> </td>, <td class=\"fix-width-12\">\n",
       "             $0.30          </td>, <td class=\"fix-width-12\">\n",
       "             $0.95          </td>, <td class=\"fix-width-12\">\n",
       "             $0.96          </td>, <td class=\"fix-width-12\">\n",
       "             $0.99          </td>, <td class=\"fix-width-12\">\n",
       "             $1.22          </td>, <td class=\"views-field views-field-expression-4\">\n",
       "             243.33%          </td>, <td class=\"fix-width-16\">\n",
       "             Cantaloupe          </td>, <td class=\"fix-width-12\">\n",
       " <span class=\"date-display-single\" content=\"2019-05-12T00:00:00-07:00\" datatype=\"xsd:dateTime\" property=\"dc:date\">2019-05-12</span> </td>, <td class=\"fix-width-12\">\n",
       "             $1.41          </td>, <td class=\"fix-width-12\">\n",
       "             $2.47          </td>, <td class=\"fix-width-12\">\n",
       "             $2.91          </td>, <td class=\"fix-width-12\">\n",
       "             $2.75          </td>, <td class=\"fix-width-12\">\n",
       "             $3.11          </td>, <td class=\"views-field views-field-expression-4\">\n",
       "             99.29%          </td>, <td class=\"fix-width-16\">\n",
       "             Broccoli Crowns          </td>, <td class=\"fix-width-12\">\n",
       " <span class=\"date-display-single\" content=\"2019-05-12T00:00:00-07:00\" datatype=\"xsd:dateTime\" property=\"dc:date\">2019-05-12</span> </td>, <td class=\"fix-width-12\">\n",
       "             $0.81          </td>, <td class=\"fix-width-12\">\n",
       "             $1.65          </td>, <td class=\"fix-width-12\">\n",
       "             $1.72          </td>, <td class=\"fix-width-12\">\n",
       "             $1.99          </td>, <td class=\"fix-width-12\">\n",
       "             $2.10          </td>, <td class=\"views-field views-field-expression-4\">\n",
       "             130.25%          </td>]"
      ]
     },
     "execution_count": 3,
     "metadata": {},
     "output_type": "execute_result"
    }
   ],
   "source": [
    "uClient = urlopen(URL) # Opens first page\n",
    "html = uClient.read() # Reads in all HTML for that page\n",
    "uClient.close() # Close connection\n",
    "page_soup = soup(html, 'html.parser') # Create soup object\n",
    "data = page_soup.find_all('td') # Grab the table data section\n",
    "data # Shows the first page of website"
   ]
  },
  {
   "cell_type": "code",
   "execution_count": 4,
   "metadata": {},
   "outputs": [],
   "source": [
    "# Grab all page urls. There are 637 pages\n",
    "urls = ['http://www.producepriceindex.com/']\n",
    "for i in range(1, 638):\n",
    "    urls.append(URL+f'produce-price-index?field_ppi_commodity_target_id=All&field_ppi_date_value%5Bmin%5D=&field_ppi_date_value%5Bmax%5D=&page={i}')"
   ]
  },
  {
   "cell_type": "markdown",
   "metadata": {},
   "source": [
    "Create a dictionary to store commodity data. Each produce item will serve as a key in this dictionary\n",
    "The value data will be a list of the date followed by the farm price, Atlanta, Chicago, LA, and NYC retail prices,\n",
    "and finally the average spread. This list will repeat these 7 data points each time a commodity shows up on a page\n",
    "For example, for strawberries, the entry will look something like\n",
    "\n",
    "```{\"strawberries\": ['2019-05-01', '$0.89', '$2.09', '$2.49', '$3.00', '$3.01', '139.82%', \"2019-04-20\", ...]}```\n",
    "\n",
    "Will have to fix the data types and configure it into a dataframe later. Collect data into the dictionary \"produce\" for now"
   ]
  },
  {
   "cell_type": "code",
   "execution_count": 5,
   "metadata": {},
   "outputs": [],
   "source": [
    "produce = dict() # create an empty dictionary to hold all data\n",
    "\n",
    "# For each page on the website, read in the soup object and find all table data\n",
    "for page in urls:\n",
    "    uClient = urlopen(page)\n",
    "    html = uClient.read()\n",
    "    uClient.close()\n",
    "    page_soup = soup(html, 'html.parser')\n",
    "    data = page_soup.find_all('td')\n",
    "    \n",
    "    # When you have the html table data, loop through all 25 rows\n",
    "    for j in range(0, 25):\n",
    "        commodity = []\n",
    "        for i in data[0 + 8*j].contents[0].split(' '): # Pick out the name of the commodity (happens every 8 iterations)\n",
    "            if (i != '') & (i != '\\n'):\n",
    "                commodity.append(i) # Pick out only the name, ditch the white spaces and newline\n",
    "\n",
    "\n",
    "        # If the commodity name is one word long, set the dictionary with that word. If not already set, create an empty list\n",
    "        if len(commodity) == 1: \n",
    "            word = commodity[0]\n",
    "            if word not in produce:\n",
    "                produce[word] = []\n",
    "            produce[word].append(data[1 + 8*j].span.string) # append the date to the list. Found at position 1 and every 8 iterations thereafter\n",
    "\n",
    "        # otherwise if the commodity is 2 words, fix this into a single item to serve as key. Then do the same as above\n",
    "        elif len(commodity) == 2: \n",
    "            word = commodity[0] + ' ' + commodity[1]\n",
    "            if word not in produce:\n",
    "                produce[word] = []\n",
    "            produce[word].append(data[1 + 8*j].span.string)\n",
    "\n",
    "        # 3 words...\n",
    "        elif len(commodity) == 3:\n",
    "            word = commodity[0] + ' ' + commodity[1] + ' ' + commodity[2]\n",
    "            if word not in produce:\n",
    "                produce[word] = []\n",
    "            produce[word].append(data[1 + 8*j].span.string)\n",
    "        \n",
    "        # 4 words...\n",
    "        elif len(commodity) == 4:\n",
    "            word = commodity[0] + ' ' + commodity[1] + ' ' + commodity[2] + ' ' + commodity[3]\n",
    "            if word not in produce:\n",
    "                produce[word] = []\n",
    "            produce[word].append(data[1 + 8*j].span.string)\n",
    "\n",
    "        # If there's anything longer than 4 words in the commodities column, show me (there's not)\n",
    "        else:\n",
    "            print(len(commodity))\n",
    "\n",
    "\n",
    "        # Now collect the values for each commodity key\n",
    "        # Everything repeats after 8 iterations, hence the 8*j.\n",
    "        # data[2 + 8*j] holds the farm price\n",
    "        for i in data[2 + 8*j].string.split(' '):\n",
    "            if (i != '') & (i != '\\n'):\n",
    "                produce[word].append(i)\n",
    "\n",
    "        # data[3 + 8*j] holds the Atlanta Retail Price\n",
    "        for i in data[3 + 8*j].string.split(' '):\n",
    "            if (i != '') & (i != '\\n'):\n",
    "                produce[word].append(i)\n",
    "\n",
    "        # Holds the Chicago Retail Price\n",
    "        for i in data[4 + 8*j].string.split(' '):\n",
    "            if (i != '') & (i != '\\n'):\n",
    "                produce[word].append(i)\n",
    "\n",
    "        # Los Angeles Retail Price\n",
    "        for i in data[5 + 8*j].string.split(' '):\n",
    "            if (i != '') & (i != '\\n'):\n",
    "                produce[word].append(i)\n",
    "\n",
    "        \n",
    "        # New York Retail Price\n",
    "        for i in data[6 + 8*j].string.split(' '):\n",
    "            if (i != '') & (i != '\\n'):\n",
    "                produce[word].append(i)\n",
    "\n",
    "        \n",
    "        # Average Spread\n",
    "        for i in data[7 + 8*j].string.split(' '):\n",
    "            if (i != '') & (i != '\\n'):\n",
    "                produce[word].append(i)"
   ]
  },
  {
   "cell_type": "markdown",
   "metadata": {},
   "source": [
    "The above code creates a dictionary that holds the produce names as keys, and a list of all the available data for that produce as its value pair. This is pretty messy. To clean this up, I will be storing the same keys, but for the values I will put all the data into a dataframe with the date as an index."
   ]
  },
  {
   "cell_type": "code",
   "execution_count": 6,
   "metadata": {},
   "outputs": [
    {
     "ename": "KeyboardInterrupt",
     "evalue": "",
     "output_type": "error",
     "traceback": [
      "\u001b[0;31m---------------------------------------------------------------------------\u001b[0m",
      "\u001b[0;31mKeyboardInterrupt\u001b[0m                         Traceback (most recent call last)",
      "\u001b[0;32m<ipython-input-6-6bbcc9ca09dd>\u001b[0m in \u001b[0;36m<module>\u001b[0;34m\u001b[0m\n\u001b[1;32m     11\u001b[0m         \u001b[0mdf_list\u001b[0m\u001b[0;34m.\u001b[0m\u001b[0mappend\u001b[0m\u001b[0;34m(\u001b[0m\u001b[0mpd\u001b[0m\u001b[0;34m.\u001b[0m\u001b[0mDataFrame\u001b[0m\u001b[0;34m(\u001b[0m\u001b[0mproduce\u001b[0m\u001b[0;34m[\u001b[0m\u001b[0mstr\u001b[0m\u001b[0;34m(\u001b[0m\u001b[0mname\u001b[0m\u001b[0;34m)\u001b[0m\u001b[0;34m]\u001b[0m\u001b[0;34m[\u001b[0m\u001b[0;36m7\u001b[0m\u001b[0;34m*\u001b[0m\u001b[0mi\u001b[0m\u001b[0;34m:\u001b[0m \u001b[0;36m7\u001b[0m\u001b[0;34m*\u001b[0m\u001b[0;34m(\u001b[0m\u001b[0mi\u001b[0m\u001b[0;34m+\u001b[0m\u001b[0;36m1\u001b[0m\u001b[0;34m)\u001b[0m\u001b[0;34m]\u001b[0m\u001b[0;34m)\u001b[0m\u001b[0;34m.\u001b[0m\u001b[0mT\u001b[0m\u001b[0;34m)\u001b[0m\u001b[0;34m\u001b[0m\u001b[0;34m\u001b[0m\u001b[0m\n\u001b[1;32m     12\u001b[0m \u001b[0;34m\u001b[0m\u001b[0m\n\u001b[0;32m---> 13\u001b[0;31m     \u001b[0mproduce_df_dict\u001b[0m\u001b[0;34m[\u001b[0m\u001b[0mstr\u001b[0m\u001b[0;34m(\u001b[0m\u001b[0mname\u001b[0m\u001b[0;34m)\u001b[0m\u001b[0;34m]\u001b[0m \u001b[0;34m=\u001b[0m \u001b[0mpd\u001b[0m\u001b[0;34m.\u001b[0m\u001b[0mconcat\u001b[0m\u001b[0;34m(\u001b[0m\u001b[0mdf_list\u001b[0m\u001b[0;34m)\u001b[0m\u001b[0;34m\u001b[0m\u001b[0;34m\u001b[0m\u001b[0m\n\u001b[0m\u001b[1;32m     14\u001b[0m     \u001b[0mproduce_df_dict\u001b[0m\u001b[0;34m[\u001b[0m\u001b[0mstr\u001b[0m\u001b[0;34m(\u001b[0m\u001b[0mname\u001b[0m\u001b[0;34m)\u001b[0m\u001b[0;34m]\u001b[0m\u001b[0;34m.\u001b[0m\u001b[0mcolumns\u001b[0m \u001b[0;34m=\u001b[0m \u001b[0;34m[\u001b[0m\u001b[0;34m'Date'\u001b[0m\u001b[0;34m,\u001b[0m \u001b[0;34m'Farm Price'\u001b[0m\u001b[0;34m,\u001b[0m \u001b[0;34m'Atlanta Retail'\u001b[0m\u001b[0;34m,\u001b[0m \u001b[0;34m'Chicago Retail'\u001b[0m\u001b[0;34m,\u001b[0m \u001b[0;34m'LA Retail'\u001b[0m\u001b[0;34m,\u001b[0m \u001b[0;34m'NYC Retail'\u001b[0m\u001b[0;34m,\u001b[0m \u001b[0;34m'Avg Spread'\u001b[0m\u001b[0;34m]\u001b[0m\u001b[0;34m\u001b[0m\u001b[0;34m\u001b[0m\u001b[0m\n\u001b[1;32m     15\u001b[0m     \u001b[0mproduce_df_dict\u001b[0m\u001b[0;34m[\u001b[0m\u001b[0mstr\u001b[0m\u001b[0;34m(\u001b[0m\u001b[0mname\u001b[0m\u001b[0;34m)\u001b[0m\u001b[0;34m]\u001b[0m\u001b[0;34m.\u001b[0m\u001b[0mindex\u001b[0m \u001b[0;34m=\u001b[0m \u001b[0mproduce_df_dict\u001b[0m\u001b[0;34m[\u001b[0m\u001b[0mstr\u001b[0m\u001b[0;34m(\u001b[0m\u001b[0mname\u001b[0m\u001b[0;34m)\u001b[0m\u001b[0;34m]\u001b[0m\u001b[0;34m[\u001b[0m\u001b[0;34m'Date'\u001b[0m\u001b[0;34m]\u001b[0m\u001b[0;34m\u001b[0m\u001b[0;34m\u001b[0m\u001b[0m\n",
      "\u001b[0;32m~/.local/share/virtualenvs/agriculture-price-analysis-wczIgwxP/lib/python3.8/site-packages/pandas/core/reshape/concat.py\u001b[0m in \u001b[0;36mconcat\u001b[0;34m(objs, axis, join, join_axes, ignore_index, keys, levels, names, verify_integrity, sort, copy)\u001b[0m\n\u001b[1;32m    256\u001b[0m     )\n\u001b[1;32m    257\u001b[0m \u001b[0;34m\u001b[0m\u001b[0m\n\u001b[0;32m--> 258\u001b[0;31m     \u001b[0;32mreturn\u001b[0m \u001b[0mop\u001b[0m\u001b[0;34m.\u001b[0m\u001b[0mget_result\u001b[0m\u001b[0;34m(\u001b[0m\u001b[0;34m)\u001b[0m\u001b[0;34m\u001b[0m\u001b[0;34m\u001b[0m\u001b[0m\n\u001b[0m\u001b[1;32m    259\u001b[0m \u001b[0;34m\u001b[0m\u001b[0m\n\u001b[1;32m    260\u001b[0m \u001b[0;34m\u001b[0m\u001b[0m\n",
      "\u001b[0;32m~/.local/share/virtualenvs/agriculture-price-analysis-wczIgwxP/lib/python3.8/site-packages/pandas/core/reshape/concat.py\u001b[0m in \u001b[0;36mget_result\u001b[0;34m(self)\u001b[0m\n\u001b[1;32m    470\u001b[0m                 \u001b[0mmgrs_indexers\u001b[0m\u001b[0;34m.\u001b[0m\u001b[0mappend\u001b[0m\u001b[0;34m(\u001b[0m\u001b[0;34m(\u001b[0m\u001b[0mobj\u001b[0m\u001b[0;34m.\u001b[0m\u001b[0m_data\u001b[0m\u001b[0;34m,\u001b[0m \u001b[0mindexers\u001b[0m\u001b[0;34m)\u001b[0m\u001b[0;34m)\u001b[0m\u001b[0;34m\u001b[0m\u001b[0;34m\u001b[0m\u001b[0m\n\u001b[1;32m    471\u001b[0m \u001b[0;34m\u001b[0m\u001b[0m\n\u001b[0;32m--> 472\u001b[0;31m             new_data = concatenate_block_managers(\n\u001b[0m\u001b[1;32m    473\u001b[0m                 \u001b[0mmgrs_indexers\u001b[0m\u001b[0;34m,\u001b[0m \u001b[0mself\u001b[0m\u001b[0;34m.\u001b[0m\u001b[0mnew_axes\u001b[0m\u001b[0;34m,\u001b[0m \u001b[0mconcat_axis\u001b[0m\u001b[0;34m=\u001b[0m\u001b[0mself\u001b[0m\u001b[0;34m.\u001b[0m\u001b[0maxis\u001b[0m\u001b[0;34m,\u001b[0m \u001b[0mcopy\u001b[0m\u001b[0;34m=\u001b[0m\u001b[0mself\u001b[0m\u001b[0;34m.\u001b[0m\u001b[0mcopy\u001b[0m\u001b[0;34m\u001b[0m\u001b[0;34m\u001b[0m\u001b[0m\n\u001b[1;32m    474\u001b[0m             )\n",
      "\u001b[0;32m~/.local/share/virtualenvs/agriculture-price-analysis-wczIgwxP/lib/python3.8/site-packages/pandas/core/internals/managers.py\u001b[0m in \u001b[0;36mconcatenate_block_managers\u001b[0;34m(mgrs_indexers, axes, concat_axis, copy)\u001b[0m\n\u001b[1;32m   2030\u001b[0m \u001b[0;34m\u001b[0m\u001b[0m\n\u001b[1;32m   2031\u001b[0m     \"\"\"\n\u001b[0;32m-> 2032\u001b[0;31m     concat_plans = [\n\u001b[0m\u001b[1;32m   2033\u001b[0m         \u001b[0mget_mgr_concatenation_plan\u001b[0m\u001b[0;34m(\u001b[0m\u001b[0mmgr\u001b[0m\u001b[0;34m,\u001b[0m \u001b[0mindexers\u001b[0m\u001b[0;34m)\u001b[0m \u001b[0;32mfor\u001b[0m \u001b[0mmgr\u001b[0m\u001b[0;34m,\u001b[0m \u001b[0mindexers\u001b[0m \u001b[0;32min\u001b[0m \u001b[0mmgrs_indexers\u001b[0m\u001b[0;34m\u001b[0m\u001b[0;34m\u001b[0m\u001b[0m\n\u001b[1;32m   2034\u001b[0m     ]\n",
      "\u001b[0;32m~/.local/share/virtualenvs/agriculture-price-analysis-wczIgwxP/lib/python3.8/site-packages/pandas/core/internals/managers.py\u001b[0m in \u001b[0;36m<listcomp>\u001b[0;34m(.0)\u001b[0m\n\u001b[1;32m   2031\u001b[0m     \"\"\"\n\u001b[1;32m   2032\u001b[0m     concat_plans = [\n\u001b[0;32m-> 2033\u001b[0;31m         \u001b[0mget_mgr_concatenation_plan\u001b[0m\u001b[0;34m(\u001b[0m\u001b[0mmgr\u001b[0m\u001b[0;34m,\u001b[0m \u001b[0mindexers\u001b[0m\u001b[0;34m)\u001b[0m \u001b[0;32mfor\u001b[0m \u001b[0mmgr\u001b[0m\u001b[0;34m,\u001b[0m \u001b[0mindexers\u001b[0m \u001b[0;32min\u001b[0m \u001b[0mmgrs_indexers\u001b[0m\u001b[0;34m\u001b[0m\u001b[0;34m\u001b[0m\u001b[0m\n\u001b[0m\u001b[1;32m   2034\u001b[0m     ]\n\u001b[1;32m   2035\u001b[0m     \u001b[0mconcat_plan\u001b[0m \u001b[0;34m=\u001b[0m \u001b[0mcombine_concat_plans\u001b[0m\u001b[0;34m(\u001b[0m\u001b[0mconcat_plans\u001b[0m\u001b[0;34m,\u001b[0m \u001b[0mconcat_axis\u001b[0m\u001b[0;34m)\u001b[0m\u001b[0;34m\u001b[0m\u001b[0;34m\u001b[0m\u001b[0m\n",
      "\u001b[0;32m~/.local/share/virtualenvs/agriculture-price-analysis-wczIgwxP/lib/python3.8/site-packages/pandas/core/internals/concat.py\u001b[0m in \u001b[0;36mget_mgr_concatenation_plan\u001b[0;34m(mgr, indexers)\u001b[0m\n\u001b[1;32m     45\u001b[0m     \u001b[0;32mfor\u001b[0m \u001b[0max\u001b[0m\u001b[0;34m,\u001b[0m \u001b[0mindexer\u001b[0m \u001b[0;32min\u001b[0m \u001b[0mindexers\u001b[0m\u001b[0;34m.\u001b[0m\u001b[0mitems\u001b[0m\u001b[0;34m(\u001b[0m\u001b[0;34m)\u001b[0m\u001b[0;34m:\u001b[0m\u001b[0;34m\u001b[0m\u001b[0;34m\u001b[0m\u001b[0m\n\u001b[1;32m     46\u001b[0m         \u001b[0mmgr_shape\u001b[0m\u001b[0;34m[\u001b[0m\u001b[0max\u001b[0m\u001b[0;34m]\u001b[0m \u001b[0;34m=\u001b[0m \u001b[0mlen\u001b[0m\u001b[0;34m(\u001b[0m\u001b[0mindexer\u001b[0m\u001b[0;34m)\u001b[0m\u001b[0;34m\u001b[0m\u001b[0;34m\u001b[0m\u001b[0m\n\u001b[0;32m---> 47\u001b[0;31m     \u001b[0mmgr_shape\u001b[0m \u001b[0;34m=\u001b[0m \u001b[0mtuple\u001b[0m\u001b[0;34m(\u001b[0m\u001b[0mmgr_shape\u001b[0m\u001b[0;34m)\u001b[0m\u001b[0;34m\u001b[0m\u001b[0;34m\u001b[0m\u001b[0m\n\u001b[0m\u001b[1;32m     48\u001b[0m \u001b[0;34m\u001b[0m\u001b[0m\n\u001b[1;32m     49\u001b[0m     \u001b[0;32mif\u001b[0m \u001b[0;36m0\u001b[0m \u001b[0;32min\u001b[0m \u001b[0mindexers\u001b[0m\u001b[0;34m:\u001b[0m\u001b[0;34m\u001b[0m\u001b[0;34m\u001b[0m\u001b[0m\n",
      "\u001b[0;31mKeyboardInterrupt\u001b[0m: "
     ]
    }
   ],
   "source": [
    "# Start an empty dictionary\n",
    "produce_df_dict = dict()\n",
    "\n",
    "# Create an empty list to store dataframes for concatenation\n",
    "df_list = []\n",
    "\n",
    "# iterate through every key in the produce dictionary and create a data frame from its data. Every 7 elements\n",
    "# in the values for a given key becomes a row in the df. There are 985 total items in each list\n",
    "for name in list(produce.keys()):\n",
    "    for i in range(986):\n",
    "        df_list.append(pd.DataFrame(produce[str(name)][7*i: 7*(i+1)]).T)\n",
    "    \n",
    "    produce_df_dict[str(name)] = pd.concat(df_list)\n",
    "    produce_df_dict[str(name)].columns = ['Date', 'Farm Price', 'Atlanta Retail', 'Chicago Retail', 'LA Retail', 'NYC Retail', 'Avg Spread']\n",
    "    produce_df_dict[str(name)].index = produce_df_dict[str(name)]['Date']\n",
    "    produce_df_dict[str(name)].drop(columns =['Date'], inplace=True)\n",
    "    produce_df_dict[str(name)]['Farm Price'] = pd.to_numeric(produce_df_dict[str(name)]['Farm Price'].str.replace('$', ''))\n",
    "    produce_df_dict[str(name)]['Atlanta Retail'] = pd.to_numeric(produce_df_dict[str(name)]['Atlanta Retail'].str.replace('$', ''))\n",
    "    produce_df_dict[str(name)]['Chicago Retail'] = pd.to_numeric(produce_df_dict[str(name)]['Chicago Retail'].str.replace('$', ''))\n",
    "    produce_df_dict[str(name)]['LA Retail'] = pd.to_numeric(produce_df_dict[str(name)]['LA Retail'].str.replace('$', ''))\n",
    "    produce_df_dict[str(name)]['NYC Retail'] = pd.to_numeric(produce_df_dict[str(name)]['NYC Retail'].str.replace('$', ''))\n",
    "    produce_df_dict[str(name)]['Commodity'] = str(name)"
   ]
  },
  {
   "cell_type": "code",
   "execution_count": null,
   "metadata": {},
   "outputs": [],
   "source": [
    "produce_df_dict.keys()"
   ]
  },
  {
   "cell_type": "code",
   "execution_count": null,
   "metadata": {},
   "outputs": [],
   "source": [
    "produce_df_dict['Strawberries']"
   ]
  },
  {
   "cell_type": "markdown",
   "metadata": {},
   "source": [
    "Alright. Now to make one data frame that holds it all."
   ]
  },
  {
   "cell_type": "code",
   "execution_count": null,
   "metadata": {},
   "outputs": [],
   "source": [
    "full_df = []\n",
    "for name in list(produce_df_dict.keys()):\n",
    "    full_df.append(produce_df_dict[name])"
   ]
  },
  {
   "cell_type": "code",
   "execution_count": null,
   "metadata": {},
   "outputs": [],
   "source": [
    "grand_df = pd.concat(full_df)"
   ]
  },
  {
   "cell_type": "code",
   "execution_count": null,
   "metadata": {},
   "outputs": [],
   "source": [
    "grand_df.head()"
   ]
  },
  {
   "cell_type": "code",
   "execution_count": null,
   "metadata": {},
   "outputs": [],
   "source": [
    "grand_df.tail()"
   ]
  },
  {
   "cell_type": "markdown",
   "metadata": {},
   "source": [
    "Cool. Now to save it in a database."
   ]
  },
  {
   "cell_type": "code",
   "execution_count": null,
   "metadata": {},
   "outputs": [],
   "source": [
    "import sqlite3\n",
    "conn = sqlite3.connect('agriculture_prices.db')\n",
    "c = conn.cursor()"
   ]
  },
  {
   "cell_type": "code",
   "execution_count": null,
   "metadata": {},
   "outputs": [],
   "source": [
    "c.execute('''CREATE TABLE agriculture_prices (\n",
    "                    date BLOB,\n",
    "                    farm_price REAL,\n",
    "                    atlanta_retail REAL,\n",
    "                    chicago_retail REAL,\n",
    "                    los_angeles_retail REAL,\n",
    "                    nyc_retail REAL,\n",
    "                    avg_spread TEXT,\n",
    "                    commodity TEXT)''')\n",
    "\n",
    "conn.commit()\n"
   ]
  },
  {
   "cell_type": "code",
   "execution_count": null,
   "metadata": {},
   "outputs": [],
   "source": [
    "grand_df['Date'] = grand_df.index"
   ]
  },
  {
   "cell_type": "code",
   "execution_count": null,
   "metadata": {},
   "outputs": [],
   "source": [
    "list(grand_df.iloc[0])"
   ]
  },
  {
   "cell_type": "code",
   "execution_count": null,
   "metadata": {},
   "outputs": [],
   "source": [
    "def insert_row(row_list):\n",
    "    with conn:\n",
    "        c.execute('''INSERT INTO agriculture_prices VALUES (:farm_price, :atlanta_retail, :chicago_retail, :los_angeles_retail, :nyc_retail, :avg_spread, :commodity, :date)''', \n",
    "                 {'farm_price': row_list[0], 'atlanta_retail': row_list[1], 'chicago_retail': row_list[2], 'los_angeles_retail':row_list[3], 'nyc_retail': row_list[4], 'avg_spread': row_list[5], 'commodity': row_list[6], 'date': row_list[7]})\n",
    "    "
   ]
  },
  {
   "cell_type": "markdown",
   "metadata": {},
   "source": [
    "Not the most effient way to do this, but it's straightforward."
   ]
  },
  {
   "cell_type": "code",
   "execution_count": 30,
   "metadata": {},
   "outputs": [],
   "source": [
    "for row in range(len(grand_df)):\n",
    "    insert_row(grand_df.iloc[row])"
   ]
  },
  {
   "cell_type": "code",
   "execution_count": 32,
   "metadata": {},
   "outputs": [],
   "source": [
    "grand_df = c.execute('''SELECT * FROM agriculture_prices''').fetchall()"
   ]
  },
  {
   "cell_type": "code",
   "execution_count": 38,
   "metadata": {},
   "outputs": [
    {
     "data": {
      "text/plain": [
       "[(1.16, 2.23, 1.7, 1.99, 2.54, '82.33%', 'Strawberries', '2019-05-19'),\n",
       " (0.91, 2.67, 1.89, 2.47, 2.66, '166.21%', 'Strawberries', '2019-05-12'),\n",
       " (0.58, 2.42, 1.89, 2.12, 2.91, '302.59%', 'Strawberries', '2019-05-05'),\n",
       " (0.58, 2.79, 1.95, 2.38, 2.96, '334.48%', 'Strawberries', '2019-04-28'),\n",
       " (0.69, 2.92, 2.04, 2.38, 3.16, '280.43%', 'Strawberries', '2019-04-21')]"
      ]
     },
     "execution_count": 38,
     "metadata": {},
     "output_type": "execute_result"
    }
   ],
   "source": [
    "grand_df[:5]"
   ]
  },
  {
   "cell_type": "code",
   "execution_count": 39,
   "metadata": {},
   "outputs": [
    {
     "data": {
      "text/plain": [
       "[(0.28, 1.69, 0.0, 1.24, 1.19, '267.86%', 'Nectarines', '2000-07-23'),\n",
       " (0.26, 1.61, 0.0, 1.37, 1.19, '300.96%', 'Nectarines', '2000-07-16'),\n",
       " (0.3, 1.71, 0.0, 1.42, 1.19, '260.00%', 'Nectarines', '2000-07-09'),\n",
       " (0.33, 1.96, 0.0, 0.92, 1.04, '196.97%', 'Nectarines', '2000-07-02'),\n",
       " (0.39, 1.22, 0.0, 0.92, 1.19, '113.46%', 'Nectarines', '2000-06-25')]"
      ]
     },
     "execution_count": 39,
     "metadata": {},
     "output_type": "execute_result"
    }
   ],
   "source": [
    "grand_df[-5:]"
   ]
  },
  {
   "cell_type": "markdown",
   "metadata": {},
   "source": [
    "Looks like it worked and the database has been created."
   ]
  },
  {
   "cell_type": "code",
   "execution_count": null,
   "metadata": {},
   "outputs": [],
   "source": []
  }
 ],
 "metadata": {
  "kernelspec": {
   "display_name": "agriculture-project",
   "language": "python",
   "name": "agriculture-project"
  },
  "language_info": {
   "codemirror_mode": {
    "name": "ipython",
    "version": 3
   },
   "file_extension": ".py",
   "mimetype": "text/x-python",
   "name": "python",
   "nbconvert_exporter": "python",
   "pygments_lexer": "ipython3",
   "version": "3.8.0"
  }
 },
 "nbformat": 4,
 "nbformat_minor": 4
}
